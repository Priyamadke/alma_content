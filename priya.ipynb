{
 "cells": [
  {
   "cell_type": "markdown",
   "metadata": {},
   "source": [
    "'''Create a Python class for a paint brush that has the following properties:\n",
    "\n",
    "Size (small, medium, or large)\n",
    "Color (red, blue, green, or yellow)\n",
    "Brand (Winsor & Newton, Liquitex, or Grumbacher)\n",
    "Type (round or flat) # Im painting with medium with colour blue, Wnsor and newton and  round.\n",
    "'''"
   ]
  },
  {
   "cell_type": "code",
   "execution_count": 4,
   "metadata": {},
   "outputs": [
    {
     "ename": "IndentationError",
     "evalue": "expected an indented block after function definition on line 2 (1897646160.py, line 3)",
     "output_type": "error",
     "traceback": [
      "\u001b[1;36m  Cell \u001b[1;32mIn[4], line 3\u001b[1;36m\u001b[0m\n\u001b[1;33m    def get_result(self):\u001b[0m\n\u001b[1;37m    ^\u001b[0m\n\u001b[1;31mIndentationError\u001b[0m\u001b[1;31m:\u001b[0m expected an indented block after function definition on line 2\n"
     ]
    }
   ],
   "source": [
    "class creat_list:\n",
    "    def __init__(self):\n",
    "    def get_result(self):\n",
    "        l=[]\n",
    "        for i in range(1,6):\n",
    "            l.append(i)\n",
    "        print(l)\n",
    "l2=creat_list()\n",
    "l2.get_result()"
   ]
  },
  {
   "cell_type": "code",
   "execution_count": 3,
   "metadata": {},
   "outputs": [
    {
     "name": "stdout",
     "output_type": "stream",
     "text": [
      "880\n"
     ]
    },
    {
     "ename": "ZeroDivisionError",
     "evalue": "integer division or modulo by zero",
     "output_type": "error",
     "traceback": [
      "\u001b[1;31m---------------------------------------------------------------------------\u001b[0m",
      "\u001b[1;31mZeroDivisionError\u001b[0m                         Traceback (most recent call last)",
      "Cell \u001b[1;32mIn[3], line 13\u001b[0m\n\u001b[0;32m     11\u001b[0m                 \u001b[38;5;28mprint\u001b[39m(total_notes)\n\u001b[0;32m     12\u001b[0m n1\u001b[38;5;241m=\u001b[39mtotal_notes(\u001b[38;5;28mint\u001b[39m(\u001b[38;5;28minput\u001b[39m()))\n\u001b[1;32m---> 13\u001b[0m n1\u001b[38;5;241m.\u001b[39mget_count_notes()\n",
      "Cell \u001b[1;32mIn[3], line 8\u001b[0m, in \u001b[0;36mtotal_notes.get_count_notes\u001b[1;34m(self)\u001b[0m\n\u001b[0;32m      6\u001b[0m \u001b[38;5;28;01mfor\u001b[39;00m i \u001b[38;5;129;01min\u001b[39;00m \u001b[38;5;28mrange\u001b[39m(\u001b[38;5;241m0\u001b[39m,\u001b[38;5;241m6\u001b[39m):\n\u001b[0;32m      7\u001b[0m     \u001b[38;5;28;01mif\u001b[39;00m \u001b[38;5;28mself\u001b[39m\u001b[38;5;241m.\u001b[39mamount\u001b[38;5;241m>\u001b[39m\u001b[38;5;241m=\u001b[39mi:\n\u001b[1;32m----> 8\u001b[0m         l1\u001b[38;5;241m=\u001b[39m\u001b[38;5;28mself\u001b[39m\u001b[38;5;241m.\u001b[39mamount\u001b[38;5;241m/\u001b[39m\u001b[38;5;241m/\u001b[39mi\n\u001b[0;32m      9\u001b[0m         \u001b[38;5;28mself\u001b[39m\u001b[38;5;241m.\u001b[39mamount\u001b[38;5;241m%\u001b[39m\u001b[38;5;241m=\u001b[39mi\n\u001b[0;32m     10\u001b[0m         total_notes\u001b[38;5;241m=\u001b[39m\u001b[38;5;28msum\u001b[39m(\u001b[38;5;241m500\u001b[39m,\u001b[38;5;241m200\u001b[39m,\u001b[38;5;241m100\u001b[39m,\u001b[38;5;241m50\u001b[39m,\u001b[38;5;241m20\u001b[39m,\u001b[38;5;241m10\u001b[39m)\n",
      "\u001b[1;31mZeroDivisionError\u001b[0m: integer division or modulo by zero"
     ]
    }
   ],
   "source": [
    "class total_notes:\n",
    "    def __init__(self,amount):\n",
    "        self.amount=amount\n",
    "    def get_count_notes(self):\n",
    "        notes_no=[500,200,100,50,20,10]\n",
    "        for i in range(0,6):\n",
    "            if self.amount>=i:\n",
    "                l1=self.amount//i\n",
    "                self.amount%=i\n",
    "                total_notes=sum(500,200,100,50,20,10)\n",
    "                print(total_notes)\n",
    "n1=total_notes(int(input()))\n",
    "n1.get_count_notes()"
   ]
  },
  {
   "cell_type": "code",
   "execution_count": 4,
   "metadata": {},
   "outputs": [
    {
     "ename": "TypeError",
     "evalue": "can only concatenate str (not \"int\") to str",
     "output_type": "error",
     "traceback": [
      "\u001b[1;31m---------------------------------------------------------------------------\u001b[0m",
      "\u001b[1;31mTypeError\u001b[0m                                 Traceback (most recent call last)",
      "Cell \u001b[1;32mIn[4], line 3\u001b[0m\n\u001b[0;32m      1\u001b[0m name \u001b[38;5;241m=\u001b[39m \u001b[38;5;124m\"\u001b[39m\u001b[38;5;124mJohn\u001b[39m\u001b[38;5;124m\"\u001b[39m\n\u001b[0;32m      2\u001b[0m age \u001b[38;5;241m=\u001b[39m \u001b[38;5;241m25\u001b[39m\n\u001b[1;32m----> 3\u001b[0m result \u001b[38;5;241m=\u001b[39m \u001b[38;5;124m\"\u001b[39m\u001b[38;5;124mMy name is \u001b[39m\u001b[38;5;124m\"\u001b[39m \u001b[38;5;241m+\u001b[39m name \u001b[38;5;241m+\u001b[39m \u001b[38;5;124m\"\u001b[39m\u001b[38;5;124m and I am \u001b[39m\u001b[38;5;124m\"\u001b[39m \u001b[38;5;241m+\u001b[39m age \u001b[38;5;241m+\u001b[39m \u001b[38;5;124m\"\u001b[39m\u001b[38;5;124m years old.\u001b[39m\u001b[38;5;124m\"\u001b[39m\n",
      "\u001b[1;31mTypeError\u001b[0m: can only concatenate str (not \"int\") to str"
     ]
    }
   ],
   "source": [
    "name = \"John\"\n",
    "age = 25\n",
    "result = \"My name is \" + name + \" and I am \" + age + \" years old.\""
   ]
  },
  {
   "cell_type": "code",
   "execution_count": null,
   "metadata": {},
   "outputs": [],
   "source": []
  },
  {
   "cell_type": "code",
   "execution_count": 1,
   "metadata": {},
   "outputs": [
    {
     "name": "stdout",
     "output_type": "stream",
     "text": [
      "Im painting with medium with red,liquitex andflat\n"
     ]
    }
   ],
   "source": [
    "class paint_brush:\n",
    "    def __init__(self,size,colour,brand,type):\n",
    "        self.size=size\n",
    "        self.colour=colour\n",
    "        self.brand=brand\n",
    "        self.type=type\n",
    "    def get_paint_in_class(self):\n",
    "        print(f\"Im painting with {self.size} with {self.colour},{self.brand} and{self.type}\")\n",
    "\n",
    "brush=paint_brush(size=\"medium\",colour=\"red\",brand=\"liquitex\",type=\"flat\")\n",
    "brush.get_paint_in_class()\n",
    "\n"
   ]
  },
  {
   "cell_type": "code",
   "execution_count": null,
   "metadata": {},
   "outputs": [],
   "source": [
    "ist=input()\n",
    "max_number=0\n",
    "for i in list:\n",
    "    if i>max_number:\n",
    "        max_number=i\n",
    "        print(max_number)\n",
    "\n"
   ]
  },
  {
   "cell_type": "code",
   "execution_count": null,
   "metadata": {},
   "outputs": [],
   "source": [
    "ist=input()\n",
    "max_number=0\n",
    "for i in list:\n",
    "    if i>max_number:\n",
    "        max_number=i\n",
    "        print(max_number)\n"
   ]
  },
  {
   "cell_type": "code",
   "execution_count": 4,
   "metadata": {},
   "outputs": [
    {
     "ename": "SyntaxError",
     "evalue": "invalid syntax (2924054741.py, line 1)",
     "output_type": "error",
     "traceback": [
      "\u001b[1;36m  Cell \u001b[1;32mIn[4], line 1\u001b[1;36m\u001b[0m\n\u001b[1;33m    def_max_num_in_list():\u001b[0m\n\u001b[1;37m                         ^\u001b[0m\n\u001b[1;31mSyntaxError\u001b[0m\u001b[1;31m:\u001b[0m invalid syntax\n"
     ]
    }
   ],
   "source": [
    "def_max_num_in_list():\n",
    "    max_num=list[0]\n",
    "    for i in list:\n",
    "        if i>max_num:\n",
    "            max_num=i\n",
    "    return max_num\n",
    "\n",
    "list=eval(input())\n",
    "print(max_num_in_list(list))\n",
    "\n"
   ]
  },
  {
   "cell_type": "code",
   "execution_count": 1,
   "metadata": {},
   "outputs": [
    {
     "name": "stdout",
     "output_type": "stream",
     "text": [
      "abcabc\n"
     ]
    }
   ],
   "source": [
    "str=input()\n",
    "n=int(input())\n",
    "result=str*n\n",
    "print(result)"
   ]
  },
  {
   "cell_type": "code",
   "execution_count": 5,
   "metadata": {},
   "outputs": [
    {
     "name": "stdout",
     "output_type": "stream",
     "text": [
      "(6, 'ok')\n"
     ]
    }
   ],
   "source": [
    "def longest_word(word_list):\n",
    "    word_len=[]\n",
    "    for i in word_list:\n",
    "        word_len.append( len(i))\n",
    "    return max(word_len),word_list[word_len.index(min(word_len))]\n",
    "word_list=list(input().split(\" \"))\n",
    "print(longest_word(word_list))\n",
    "\n"
   ]
  },
  {
   "cell_type": "code",
   "execution_count": null,
   "metadata": {},
   "outputs": [],
   "source": [
    "def pascal_triangle(n):\n",
    "       throw=[1]\n",
    "       y=[0]\n",
    "       for x in range(max(n,0)):\n",
    "            print(x)\n",
    "            throw=[l+r for l,r in zip(y+[throw],[throw+y])]\n",
    "       return n>=1\n",
    "n=int(input())\n"
   ]
  },
  {
   "cell_type": "code",
   "execution_count": 10,
   "metadata": {},
   "outputs": [
    {
     "name": "stdout",
     "output_type": "stream",
     "text": [
      "  prmte\n"
     ]
    }
   ],
   "source": [
    "def odd_values_string(str1):\n",
    "     result = \" \"\" \" \n",
    "     for i in range(len(str1)): \n",
    "        if i % 2 == 0:\n",
    "             result = result + str1[i] \n",
    "     return result\n",
    "\n",
    "str1 = input()\n",
    "print(odd_values_string(str1))"
   ]
  },
  {
   "cell_type": "code",
   "execution_count": 15,
   "metadata": {},
   "outputs": [],
   "source": [
    "def add_str(str):\n",
    "    if len(str)>2:\n",
    "        if str[-3]==\"ing\":\n",
    "            str+=\"ly\"\n",
    "        else:\n",
    "            str+=\"ing\"\n",
    "str=input()\n"
   ]
  },
  {
   "cell_type": "code",
   "execution_count": 23,
   "metadata": {},
   "outputs": [
    {
     "name": "stdout",
     "output_type": "stream",
     "text": [
      "flyingly\n"
     ]
    }
   ],
   "source": [
    "def add_string(str1): \n",
    "\n",
    "  if len(str1) > 2: \n",
    "    if str1[-3:] == 'ing': \n",
    "        str1 += 'ly' \n",
    "    else: \n",
    "        str1 += 'ing'\n",
    "    return str1\n",
    "str1=input()\n",
    "print(add_string(str1))"
   ]
  },
  {
   "cell_type": "code",
   "execution_count": 26,
   "metadata": {},
   "outputs": [
    {
     "name": "stdout",
     "output_type": "stream",
     "text": [
      "lyingly\n"
     ]
    }
   ],
   "source": [
    "def add_string(str1): \n",
    "\n",
    "  if len(str1) > 2: \n",
    "    if str1[-3:] == 'ing': \n",
    "        str1 += 'ly' \n",
    "    else: \n",
    "        str1 += 'ing'\n",
    "    return str1\n",
    "str1=input()\n",
    "print(add_string(str1))"
   ]
  },
  {
   "cell_type": "code",
   "execution_count": 30,
   "metadata": {},
   "outputs": [],
   "source": [
    "def find_charecter(a,b):\n",
    "    new_a=b[:2]+a[2:]\n",
    "    new_b=a[:2]+b[2:]\n",
    "    return  new_a+\" \"+ new_b\n",
    "a=input()\n",
    "b=input()\n",
    "print(find_charecter(a,b))"
   ]
  },
  {
   "cell_type": "code",
   "execution_count": 1,
   "metadata": {},
   "outputs": [],
   "source": [
    "def find_charecter(a,b):\n",
    "    new_a=b[:2]+a[2:]\n",
    "    new_b=a[:2]+b[2:]\n",
    "    return  new_a+\" \"+ new_b\n",
    "a=input()\n",
    "b=input()\n",
    "print(find_charecter(a,b))"
   ]
  },
  {
   "cell_type": "code",
   "execution_count": 29,
   "metadata": {},
   "outputs": [
    {
     "name": "stdout",
     "output_type": "stream",
     "text": [
      "{'l': 1, 'y': 1, 'i': 1, 'n': 1, 'g': 1}\n"
     ]
    }
   ],
   "source": [
    "def char_frequency(str1):\n",
    "    dict={}\n",
    "    for n in str1:\n",
    "        keys=dict.keys()\n",
    "        if n in keys:\n",
    "           dict[n]+=1\n",
    "        else:\n",
    "           dict[n]=1\n",
    "    return dict\n",
    "str=input()\n",
    "print(char_frequency(str1))\n"
   ]
  },
  {
   "cell_type": "code",
   "execution_count": 14,
   "metadata": {},
   "outputs": [
    {
     "name": "stdout",
     "output_type": "stream",
     "text": [
      "ython\n"
     ]
    }
   ],
   "source": [
    "def remove_cahr(str,n):\n",
    "    first_part=str[:n]\n",
    "    last_part=str[n+1:]\n",
    "    return first_part+last_part\n",
    "str=input()\n",
    "n=int(input())\n",
    "print(remove_cahr(str,n))\n"
   ]
  },
  {
   "cell_type": "code",
   "execution_count": 25,
   "metadata": {},
   "outputs": [
    {
     "name": "stdout",
     "output_type": "stream",
     "text": [
      "lyinging\n"
     ]
    }
   ],
   "source": [
    "def add_str(str):\n",
    "    if len(str)>2:\n",
    "        if str[-3]==\"ing\":\n",
    "            str+=\"ly\"\n",
    "        else:\n",
    "            str+=\"ing\"\n",
    "    return str\n",
    "str=input()\n",
    "print(add_str(str))"
   ]
  },
  {
   "cell_type": "code",
   "execution_count": 15,
   "metadata": {},
   "outputs": [
    {
     "name": "stdout",
     "output_type": "stream",
     "text": [
      "ariyp\n"
     ]
    }
   ],
   "source": [
    "str=input()\n",
    "print(str[-1]+str[1:-1]+str[:1])"
   ]
  },
  {
   "cell_type": "code",
   "execution_count": 18,
   "metadata": {},
   "outputs": [
    {
     "ename": "SyntaxError",
     "evalue": "incomplete input (158718669.py, line 2)",
     "output_type": "error",
     "traceback": [
      "\u001b[1;36m  Cell \u001b[1;32mIn[18], line 2\u001b[1;36m\u001b[0m\n\u001b[1;33m    result = \"\"\"\"\u001b[0m\n\u001b[1;37m             ^\u001b[0m\n\u001b[1;31mSyntaxError\u001b[0m\u001b[1;31m:\u001b[0m incomplete input\n"
     ]
    }
   ],
   "source": [
    "def odd_str(str):\n",
    "    result = \"\"\"\"\n",
    "    for i in range(len(str)):\n",
    "      if i%2==0:\n",
    "        result=result+str[i]\n",
    "    return result\n",
    "str=input()\n",
    "print(odd_str(str))"
   ]
  },
  {
   "cell_type": "code",
   "execution_count": 19,
   "metadata": {},
   "outputs": [
    {
     "ename": "SyntaxError",
     "evalue": "incomplete input (3624676799.py, line 2)",
     "output_type": "error",
     "traceback": [
      "\u001b[1;36m  Cell \u001b[1;32mIn[19], line 2\u001b[1;36m\u001b[0m\n\u001b[1;33m    result = \"\"\"\"\u001b[0m\n\u001b[1;37m             ^\u001b[0m\n\u001b[1;31mSyntaxError\u001b[0m\u001b[1;31m:\u001b[0m incomplete input\n"
     ]
    }
   ],
   "source": [
    "def odd_values_string(str1):\n",
    "     result = \"\"\"\" \n",
    "     for i in range(len(str1)): \n",
    "        if i % 2 == 0: \n",
    "            result = result + str1[i] \n",
    "        return result\n",
    "\n",
    "str1 = input() \n",
    "print(odd_values_string(str1))"
   ]
  },
  {
   "cell_type": "code",
   "execution_count": 3,
   "metadata": {},
   "outputs": [
    {
     "ename": "SyntaxError",
     "evalue": "unterminated string literal (detected at line 3) (2998993423.py, line 3)",
     "output_type": "error",
     "traceback": [
      "\u001b[1;36m  Cell \u001b[1;32mIn[3], line 3\u001b[1;36m\u001b[0m\n\u001b[1;33m    with open(\"sample2.png\", 'rb) as f:\u001b[0m\n\u001b[1;37m                             ^\u001b[0m\n\u001b[1;31mSyntaxError\u001b[0m\u001b[1;31m:\u001b[0m unterminated string literal (detected at line 3)\n"
     ]
    }
   ],
   "source": [
    "from PIL import Image\n",
    "import IO\n",
    "with open(\"sample2.png\", 'rb) as f:\n",
    "  binary_data=f.read()\n",
    "  img=Image.open(IO.BytesIO(binary_data))\n",
    "  print(img.size())\n",
    "  rot=img.rotata(90)\n"
   ]
  },
  {
   "cell_type": "code",
   "execution_count": 6,
   "metadata": {},
   "outputs": [
    {
     "ename": "SyntaxError",
     "evalue": "invalid syntax (3953835548.py, line 2)",
     "output_type": "error",
     "traceback": [
      "\u001b[1;36m  Cell \u001b[1;32mIn[6], line 2\u001b[1;36m\u001b[0m\n\u001b[1;33m    csv=pd.to_read(C:\\Users\\HP\\Downloads\\employee.csv)\u001b[0m\n\u001b[1;37m                    ^\u001b[0m\n\u001b[1;31mSyntaxError\u001b[0m\u001b[1;31m:\u001b[0m invalid syntax\n"
     ]
    }
   ],
   "source": [
    "import pandas as pd\n",
    "csv=pd.to_read(C:\\Users\\HP\\Downloads\\employee.csv)\n",
    "print(csv)"
   ]
  },
  {
   "cell_type": "code",
   "execution_count": 12,
   "metadata": {},
   "outputs": [
    {
     "ename": "AttributeError",
     "evalue": "'str' object has no attribute 'remove'",
     "output_type": "error",
     "traceback": [
      "\u001b[1;31m---------------------------------------------------------------------------\u001b[0m",
      "\u001b[1;31mAttributeError\u001b[0m                            Traceback (most recent call last)",
      "\u001b[1;32mc:\\Users\\HP\\Desktop\\alma\\priya.ipynb Cell 13\u001b[0m line \u001b[0;36m5\n\u001b[0;32m      <a href='vscode-notebook-cell:/c%3A/Users/HP/Desktop/alma/priya.ipynb#Y116sZmlsZQ%3D%3D?line=2'>3</a>\u001b[0m str2\u001b[39m=\u001b[39m\u001b[39m\"\u001b[39m\u001b[39m \u001b[39m\u001b[39m\"\u001b[39m\n\u001b[0;32m      <a href='vscode-notebook-cell:/c%3A/Users/HP/Desktop/alma/priya.ipynb#Y116sZmlsZQ%3D%3D?line=3'>4</a>\u001b[0m \u001b[39mfor\u001b[39;00m i \u001b[39min\u001b[39;00m \u001b[39mstr\u001b[39m:\n\u001b[1;32m----> <a href='vscode-notebook-cell:/c%3A/Users/HP/Desktop/alma/priya.ipynb#Y116sZmlsZQ%3D%3D?line=4'>5</a>\u001b[0m     i\u001b[39m.\u001b[39;49mremove[\u001b[39m0\u001b[39m]\n\u001b[0;32m      <a href='vscode-notebook-cell:/c%3A/Users/HP/Desktop/alma/priya.ipynb#Y116sZmlsZQ%3D%3D?line=5'>6</a>\u001b[0m     str2\u001b[39m.\u001b[39mappend(i)\n\u001b[0;32m      <a href='vscode-notebook-cell:/c%3A/Users/HP/Desktop/alma/priya.ipynb#Y116sZmlsZQ%3D%3D?line=6'>7</a>\u001b[0m     \u001b[39mprint\u001b[39m(str2)\n",
      "\u001b[1;31mAttributeError\u001b[0m: 'str' object has no attribute 'remove'"
     ]
    }
   ],
   "source": [
    "str=input()\n",
    "n=input()\n",
    "str2=\" \"\n",
    "for i in str:\n",
    "    i.remove[0]\n",
    "    str2.append(i)\n",
    "    print(str2)"
   ]
  },
  {
   "cell_type": "code",
   "execution_count": null,
   "metadata": {},
   "outputs": [],
   "source": [
    "x = [1, 2, 3, 4, 5]\n",
    "print(x[5])"
   ]
  },
  {
   "cell_type": "code",
   "execution_count": null,
   "metadata": {},
   "outputs": [],
   "source": [
    "list=eval(input())\n",
    "num=int(input())\n",
    "if num in list:\n",
    "   print(\"True\")"
   ]
  },
  {
   "cell_type": "code",
   "execution_count": 1,
   "metadata": {},
   "outputs": [
    {
     "name": "stdout",
     "output_type": "stream",
     "text": [
      "2\n"
     ]
    }
   ],
   "source": [
    "def factorial(n):\n",
    "    if n==0:\n",
    "      return 1\n",
    "    else:\n",
    "      return n*factorial(n-1)\n",
    "n=int(input())\n",
    "if n<0:\n",
    "   print(\"its does not exits\")\n",
    "elif n==0:\n",
    "   print(\"the factorial of 0 is 1\")\n",
    "else:\n",
    "   print(factorial(n))"
   ]
  },
  {
   "cell_type": "code",
   "execution_count": 2,
   "metadata": {},
   "outputs": [
    {
     "name": "stdout",
     "output_type": "stream",
     "text": [
      "13\n"
     ]
    }
   ],
   "source": [
    "def fibonacci(n):\n",
    "    if n == 0:\n",
    "        return 0\n",
    "    elif n == 1:\n",
    "        return 1\n",
    "    else:\n",
    "        return fibonacci(n-1) + fibonacci(n-2)\n",
    "\n",
    "print(fibonacci(7))"
   ]
  },
  {
   "cell_type": "code",
   "execution_count": 3,
   "metadata": {},
   "outputs": [
    {
     "name": "stdout",
     "output_type": "stream",
     "text": [
      "4\n",
      "3\n",
      "2\n",
      "1\n",
      "Blastoff!\n"
     ]
    }
   ],
   "source": [
    "def countdown(n):\n",
    "    if n == 0:\n",
    "        print(\"Blastoff!\")\n",
    "    else:\n",
    "        print(n)\n",
    "        countdown(n-1)\n",
    "countdown(4)"
   ]
  },
  {
   "cell_type": "code",
   "execution_count": 4,
   "metadata": {},
   "outputs": [
    {
     "name": "stdout",
     "output_type": "stream",
     "text": [
      "1\n",
      "2\n",
      "3\n"
     ]
    }
   ],
   "source": [
    "def print_numbers(n):\n",
    "    if n == 0:\n",
    "        return\n",
    "    else:\n",
    "        print_numbers(n-1)\n",
    "        print(n)\n",
    "\n",
    "print_numbers(3)\n",
    "\n"
   ]
  },
  {
   "cell_type": "code",
   "execution_count": 2,
   "metadata": {},
   "outputs": [
    {
     "name": "stdout",
     "output_type": "stream",
     "text": [
      "4\n"
     ]
    }
   ],
   "source": [
    "def trimonacci_sequence(n):\n",
    "    if n==0 or n==1:\n",
    "        return 0\n",
    "    elif n==2:\n",
    "        return 1\n",
    "    else:\n",
    "        return  trimonacci_sequence(n-1)+trimonacci_sequence(n-2)+trimonacci_sequence(n-3)\n",
    "\n",
    "n=(int(input())) \n",
    " \n",
    "if n<0:\n",
    "    print(\"negative  integer does  not exits\")\n",
    "else:\n",
    "    print(trimonacci_sequence(5))"
   ]
  },
  {
   "cell_type": "code",
   "execution_count": 5,
   "metadata": {},
   "outputs": [
    {
     "name": "stdout",
     "output_type": "stream",
     "text": [
      "its a palandrom\n"
     ]
    }
   ],
   "source": [
    "def palindrom(s):\n",
    "    if len(s)<1:\n",
    "        return True\n",
    "    else:\n",
    "        if s[0]==s[-1]:\n",
    "            return palindrom(s[1:-1])\n",
    "        else:\n",
    "            return False\n",
    "num=str(input())\n",
    "if palindrom(num)==True:\n",
    "    print(\"its a palandrom\")\n",
    "else:\n",
    "    print(\"its not a palendrom\")"
   ]
  },
  {
   "cell_type": "code",
   "execution_count": 7,
   "metadata": {},
   "outputs": [
    {
     "ename": "RecursionError",
     "evalue": "maximum recursion depth exceeded",
     "output_type": "error",
     "traceback": [
      "\u001b[1;31m---------------------------------------------------------------------------\u001b[0m",
      "\u001b[1;31mRecursionError\u001b[0m                            Traceback (most recent call last)",
      "\u001b[1;32mc:\\Users\\HP\\Desktop\\alma\\priya.ipynb Cell 19\u001b[0m line \u001b[0;36m1\n\u001b[0;32m      <a href='vscode-notebook-cell:/c%3A/Users/HP/Desktop/alma/priya.ipynb#X24sZmlsZQ%3D%3D?line=7'>8</a>\u001b[0m     \u001b[39mreturn\u001b[39;00m right_count_path\u001b[39m+\u001b[39mleft_count_path\n\u001b[0;32m      <a href='vscode-notebook-cell:/c%3A/Users/HP/Desktop/alma/priya.ipynb#X24sZmlsZQ%3D%3D?line=8'>9</a>\u001b[0m m,n\u001b[39m=\u001b[39m\u001b[39m3\u001b[39m,\u001b[39m3\u001b[39m\n\u001b[1;32m---> <a href='vscode-notebook-cell:/c%3A/Users/HP/Desktop/alma/priya.ipynb#X24sZmlsZQ%3D%3D?line=9'>10</a>\u001b[0m total_count_path\u001b[39m=\u001b[39mcount_path(\u001b[39m0\u001b[39;49m,\u001b[39m0\u001b[39;49m,m,n)\n\u001b[0;32m     <a href='vscode-notebook-cell:/c%3A/Users/HP/Desktop/alma/priya.ipynb#X24sZmlsZQ%3D%3D?line=10'>11</a>\u001b[0m \u001b[39mprint\u001b[39m(total_count_path)\n",
      "\u001b[1;32mc:\\Users\\HP\\Desktop\\alma\\priya.ipynb Cell 19\u001b[0m line \u001b[0;36m6\n\u001b[0;32m      <a href='vscode-notebook-cell:/c%3A/Users/HP/Desktop/alma/priya.ipynb#X24sZmlsZQ%3D%3D?line=3'>4</a>\u001b[0m \u001b[39mif\u001b[39;00m row \u001b[39m>\u001b[39m\u001b[39m=\u001b[39m m \u001b[39mand\u001b[39;00m col \u001b[39m>\u001b[39m\u001b[39m=\u001b[39m n:\n\u001b[0;32m      <a href='vscode-notebook-cell:/c%3A/Users/HP/Desktop/alma/priya.ipynb#X24sZmlsZQ%3D%3D?line=4'>5</a>\u001b[0m     \u001b[39mreturn\u001b[39;00m \u001b[39m0\u001b[39m\n\u001b[1;32m----> <a href='vscode-notebook-cell:/c%3A/Users/HP/Desktop/alma/priya.ipynb#X24sZmlsZQ%3D%3D?line=5'>6</a>\u001b[0m right_count_path\u001b[39m=\u001b[39mcount_path(row,col\u001b[39m+\u001b[39;49m\u001b[39m1\u001b[39;49m,m,n)\n\u001b[0;32m      <a href='vscode-notebook-cell:/c%3A/Users/HP/Desktop/alma/priya.ipynb#X24sZmlsZQ%3D%3D?line=6'>7</a>\u001b[0m left_count_path\u001b[39m=\u001b[39mcount_path(row\u001b[39m+\u001b[39m\u001b[39m1\u001b[39m,col,m,n)\n\u001b[0;32m      <a href='vscode-notebook-cell:/c%3A/Users/HP/Desktop/alma/priya.ipynb#X24sZmlsZQ%3D%3D?line=7'>8</a>\u001b[0m \u001b[39mreturn\u001b[39;00m right_count_path\u001b[39m+\u001b[39mleft_count_path\n",
      "\u001b[1;32mc:\\Users\\HP\\Desktop\\alma\\priya.ipynb Cell 19\u001b[0m line \u001b[0;36m6\n\u001b[0;32m      <a href='vscode-notebook-cell:/c%3A/Users/HP/Desktop/alma/priya.ipynb#X24sZmlsZQ%3D%3D?line=3'>4</a>\u001b[0m \u001b[39mif\u001b[39;00m row \u001b[39m>\u001b[39m\u001b[39m=\u001b[39m m \u001b[39mand\u001b[39;00m col \u001b[39m>\u001b[39m\u001b[39m=\u001b[39m n:\n\u001b[0;32m      <a href='vscode-notebook-cell:/c%3A/Users/HP/Desktop/alma/priya.ipynb#X24sZmlsZQ%3D%3D?line=4'>5</a>\u001b[0m     \u001b[39mreturn\u001b[39;00m \u001b[39m0\u001b[39m\n\u001b[1;32m----> <a href='vscode-notebook-cell:/c%3A/Users/HP/Desktop/alma/priya.ipynb#X24sZmlsZQ%3D%3D?line=5'>6</a>\u001b[0m right_count_path\u001b[39m=\u001b[39mcount_path(row,col\u001b[39m+\u001b[39;49m\u001b[39m1\u001b[39;49m,m,n)\n\u001b[0;32m      <a href='vscode-notebook-cell:/c%3A/Users/HP/Desktop/alma/priya.ipynb#X24sZmlsZQ%3D%3D?line=6'>7</a>\u001b[0m left_count_path\u001b[39m=\u001b[39mcount_path(row\u001b[39m+\u001b[39m\u001b[39m1\u001b[39m,col,m,n)\n\u001b[0;32m      <a href='vscode-notebook-cell:/c%3A/Users/HP/Desktop/alma/priya.ipynb#X24sZmlsZQ%3D%3D?line=7'>8</a>\u001b[0m \u001b[39mreturn\u001b[39;00m right_count_path\u001b[39m+\u001b[39mleft_count_path\n",
      "    \u001b[1;31m[... skipping similar frames: count_path at line 6 (2975 times)]\u001b[0m\n",
      "\u001b[1;32mc:\\Users\\HP\\Desktop\\alma\\priya.ipynb Cell 19\u001b[0m line \u001b[0;36m6\n\u001b[0;32m      <a href='vscode-notebook-cell:/c%3A/Users/HP/Desktop/alma/priya.ipynb#X24sZmlsZQ%3D%3D?line=3'>4</a>\u001b[0m \u001b[39mif\u001b[39;00m row \u001b[39m>\u001b[39m\u001b[39m=\u001b[39m m \u001b[39mand\u001b[39;00m col \u001b[39m>\u001b[39m\u001b[39m=\u001b[39m n:\n\u001b[0;32m      <a href='vscode-notebook-cell:/c%3A/Users/HP/Desktop/alma/priya.ipynb#X24sZmlsZQ%3D%3D?line=4'>5</a>\u001b[0m     \u001b[39mreturn\u001b[39;00m \u001b[39m0\u001b[39m\n\u001b[1;32m----> <a href='vscode-notebook-cell:/c%3A/Users/HP/Desktop/alma/priya.ipynb#X24sZmlsZQ%3D%3D?line=5'>6</a>\u001b[0m right_count_path\u001b[39m=\u001b[39mcount_path(row,col\u001b[39m+\u001b[39;49m\u001b[39m1\u001b[39;49m,m,n)\n\u001b[0;32m      <a href='vscode-notebook-cell:/c%3A/Users/HP/Desktop/alma/priya.ipynb#X24sZmlsZQ%3D%3D?line=6'>7</a>\u001b[0m left_count_path\u001b[39m=\u001b[39mcount_path(row\u001b[39m+\u001b[39m\u001b[39m1\u001b[39m,col,m,n)\n\u001b[0;32m      <a href='vscode-notebook-cell:/c%3A/Users/HP/Desktop/alma/priya.ipynb#X24sZmlsZQ%3D%3D?line=7'>8</a>\u001b[0m \u001b[39mreturn\u001b[39;00m right_count_path\u001b[39m+\u001b[39mleft_count_path\n",
      "\u001b[1;31mRecursionError\u001b[0m: maximum recursion depth exceeded"
     ]
    }
   ],
   "source": [
    "def count_path(row,col,m,n):\n",
    "    if row==(m-1) and col==(n-1):\n",
    "        return 1\n",
    "    if row >= m and col >= n:\n",
    "        return 0\n",
    "    right_count_path=count_path(row,col+1,m,n)\n",
    "    left_count_path=count_path(row+1,col,m,n)\n",
    "    return right_count_path+left_count_path\n",
    "m,n=3,3\n",
    "total_count_path=count_path(0,0,m,n)\n",
    "print(total_count_path)"
   ]
  },
  {
   "cell_type": "code",
   "execution_count": 8,
   "metadata": {},
   "outputs": [
    {
     "name": "stdout",
     "output_type": "stream",
     "text": [
      "False\n"
     ]
    }
   ],
   "source": [
    "def find_data(arr, target, i=0):\n",
    "    if i == len(arr):\n",
    "        return False\n",
    "    elif arr[i] == target:\n",
    "        return True\n",
    "    else:\n",
    "        return find_data(arr, target, i+1)\n",
    "\n",
    "arr = [1, 2, 3, 4, 5]\n",
    "target = 6\n",
    "print(find_data(arr, target))"
   ]
  },
  {
   "cell_type": "code",
   "execution_count": 9,
   "metadata": {},
   "outputs": [
    {
     "name": "stdout",
     "output_type": "stream",
     "text": [
      "xyz\n",
      "xy\n",
      "xz\n",
      "x\n",
      "yz\n",
      "y\n",
      "z\n",
      "\n"
     ]
    }
   ],
   "source": [
    "def subsequence(inp, out):\n",
    "    if len(inp) == 0:\n",
    "        print(out)\n",
    "        return\n",
    "    subsequence(inp[1:], out + inp[0])\n",
    "    subsequence(inp[1:], out)\n",
    "\n",
    "subsequence(\"xyz\", \"\")"
   ]
  },
  {
   "cell_type": "code",
   "execution_count": 10,
   "metadata": {},
   "outputs": [
    {
     "name": "stdout",
     "output_type": "stream",
     "text": [
      "13\n"
     ]
    }
   ],
   "source": [
    "def fibonacci(n):\n",
    "    if n == 0:\n",
    "        return 0\n",
    "    elif n == 1:\n",
    "        return 1\n",
    "    else:\n",
    "        return fibonacci(n-1) + fibonacci(n-2)\n",
    "\n",
    "print(fibonacci(7))"
   ]
  },
  {
   "cell_type": "code",
   "execution_count": 11,
   "metadata": {},
   "outputs": [
    {
     "name": "stdout",
     "output_type": "stream",
     "text": [
      "5 4 3 2 1 "
     ]
    }
   ],
   "source": [
    "def display(arr, index):\n",
    "    if index < len(arr):\n",
    "        display(arr, index+1)\n",
    "        print(arr[index], end=\" \")\n",
    "\n",
    "arr = [1, 2, 3, 4, 5]\n",
    "display(arr, 0)"
   ]
  },
  {
   "cell_type": "code",
   "execution_count": 12,
   "metadata": {},
   "outputs": [
    {
     "name": "stdout",
     "output_type": "stream",
     "text": [
      "True\n"
     ]
    }
   ],
   "source": [
    "def find_data(arr, target):\n",
    "    if len(arr) == 0:\n",
    "        return False\n",
    "    elif arr[-1] == target:\n",
    "        return True\n",
    "    else:\n",
    "        return find_data(arr[:-1], target)\n",
    "\n",
    "arr = [1, 2, 3, 4, 5]\n",
    "target = 3\n",
    "print(find_data(arr, target))"
   ]
  },
  {
   "cell_type": "code",
   "execution_count": 4,
   "metadata": {},
   "outputs": [
    {
     "ename": "TypeError",
     "evalue": "'list' object is not callable",
     "output_type": "error",
     "traceback": [
      "\u001b[1;31m---------------------------------------------------------------------------\u001b[0m",
      "\u001b[1;31mTypeError\u001b[0m                                 Traceback (most recent call last)",
      "\u001b[1;32mc:\\Users\\HP\\Desktop\\alma\\priya.ipynb Cell 25\u001b[0m line \u001b[0;36m8\n\u001b[0;32m      <a href='vscode-notebook-cell:/c%3A/Users/HP/Desktop/alma/priya.ipynb#X33sZmlsZQ%3D%3D?line=5'>6</a>\u001b[0m                 N(j),N(j\u001b[39m+\u001b[39m\u001b[39m1\u001b[39m)\u001b[39m==\u001b[39mN(j\u001b[39m+\u001b[39m\u001b[39m1\u001b[39m),N(j)\n\u001b[0;32m      <a href='vscode-notebook-cell:/c%3A/Users/HP/Desktop/alma/priya.ipynb#X33sZmlsZQ%3D%3D?line=6'>7</a>\u001b[0m N\u001b[39m=\u001b[39m[\u001b[39m5\u001b[39m,\u001b[39m3\u001b[39m,\u001b[39m6\u001b[39m,\u001b[39m1\u001b[39m,\u001b[39m4\u001b[39m,\u001b[39m2\u001b[39m,\u001b[39m8\u001b[39m]\n\u001b[1;32m----> <a href='vscode-notebook-cell:/c%3A/Users/HP/Desktop/alma/priya.ipynb#X33sZmlsZQ%3D%3D?line=7'>8</a>\u001b[0m bubble_sort(N)\n\u001b[0;32m      <a href='vscode-notebook-cell:/c%3A/Users/HP/Desktop/alma/priya.ipynb#X33sZmlsZQ%3D%3D?line=8'>9</a>\u001b[0m \u001b[39mfor\u001b[39;00m i \u001b[39min\u001b[39;00m \u001b[39mrange\u001b[39m(\u001b[39mlen\u001b[39m(N)):\n\u001b[0;32m     <a href='vscode-notebook-cell:/c%3A/Users/HP/Desktop/alma/priya.ipynb#X33sZmlsZQ%3D%3D?line=9'>10</a>\u001b[0m     \u001b[39mprint\u001b[39m(\u001b[39m\"\u001b[39m\u001b[39m%d\u001b[39;00m\u001b[39m\"\u001b[39m\u001b[39m%\u001b[39mN(i))\n",
      "\u001b[1;32mc:\\Users\\HP\\Desktop\\alma\\priya.ipynb Cell 25\u001b[0m line \u001b[0;36m5\n\u001b[0;32m      <a href='vscode-notebook-cell:/c%3A/Users/HP/Desktop/alma/priya.ipynb#X33sZmlsZQ%3D%3D?line=2'>3</a>\u001b[0m \u001b[39mfor\u001b[39;00m i \u001b[39min\u001b[39;00m \u001b[39mrange\u001b[39m(n):\n\u001b[0;32m      <a href='vscode-notebook-cell:/c%3A/Users/HP/Desktop/alma/priya.ipynb#X33sZmlsZQ%3D%3D?line=3'>4</a>\u001b[0m     \u001b[39mfor\u001b[39;00m j \u001b[39min\u001b[39;00m \u001b[39mrange\u001b[39m(\u001b[39m0\u001b[39m,n\u001b[39m-\u001b[39mi\u001b[39m-\u001b[39m\u001b[39m1\u001b[39m):\n\u001b[1;32m----> <a href='vscode-notebook-cell:/c%3A/Users/HP/Desktop/alma/priya.ipynb#X33sZmlsZQ%3D%3D?line=4'>5</a>\u001b[0m         \u001b[39mif\u001b[39;00m N(j) \u001b[39m>\u001b[39m N(j\u001b[39m+\u001b[39m\u001b[39m1\u001b[39m):\n\u001b[0;32m      <a href='vscode-notebook-cell:/c%3A/Users/HP/Desktop/alma/priya.ipynb#X33sZmlsZQ%3D%3D?line=5'>6</a>\u001b[0m             N(j),N(j\u001b[39m+\u001b[39m\u001b[39m1\u001b[39m)\u001b[39m==\u001b[39mN(j\u001b[39m+\u001b[39m\u001b[39m1\u001b[39m),N(j)\n",
      "\u001b[1;31mTypeError\u001b[0m: 'list' object is not callable"
     ]
    }
   ],
   "source": [
    "def bubble_sort(N):\n",
    "    n=len(N)\n",
    "    for i in range(n):\n",
    "        for j in range(0,n-i-1):\n",
    "            if N(j) > N(j+1):\n",
    "                N(j),N(j+1)==N(j+1),N(j)\n",
    "N=[5,3,6,1,4,2,8]\n",
    "bubble_sort(N)\n",
    "for i in range(len(N)):\n",
    "    print(\"%d\"%N(i))\n"
   ]
  },
  {
   "cell_type": "code",
   "execution_count": 9,
   "metadata": {},
   "outputs": [
    {
     "ename": "ValueError",
     "evalue": "invalid literal for int() with base 10: '1,2,3,4,5,6'",
     "output_type": "error",
     "traceback": [
      "\u001b[1;31m---------------------------------------------------------------------------\u001b[0m",
      "\u001b[1;31mValueError\u001b[0m                                Traceback (most recent call last)",
      "\u001b[1;32mc:\\Users\\HP\\Desktop\\alma\\priya.ipynb Cell 26\u001b[0m line \u001b[0;36m6\n\u001b[0;32m      <a href='vscode-notebook-cell:/c%3A/Users/HP/Desktop/alma/priya.ipynb#X34sZmlsZQ%3D%3D?line=3'>4</a>\u001b[0m             \u001b[39mreturn\u001b[39;00m \u001b[39m1\u001b[39m\n\u001b[0;32m      <a href='vscode-notebook-cell:/c%3A/Users/HP/Desktop/alma/priya.ipynb#X34sZmlsZQ%3D%3D?line=4'>5</a>\u001b[0m     \u001b[39mreturn\u001b[39;00m\u001b[39m-\u001b[39m\u001b[39m1\u001b[39m\n\u001b[1;32m----> <a href='vscode-notebook-cell:/c%3A/Users/HP/Desktop/alma/priya.ipynb#X34sZmlsZQ%3D%3D?line=5'>6</a>\u001b[0m data \u001b[39m=\u001b[39m \u001b[39mlist\u001b[39;49m(\u001b[39mmap\u001b[39;49m(\u001b[39mint\u001b[39;49m, \u001b[39minput\u001b[39;49m(\u001b[39m\"\u001b[39;49m\u001b[39mEnter the list of data, separated by spaces: \u001b[39;49m\u001b[39m\"\u001b[39;49m)\u001b[39m.\u001b[39;49msplit()))\n\u001b[0;32m      <a href='vscode-notebook-cell:/c%3A/Users/HP/Desktop/alma/priya.ipynb#X34sZmlsZQ%3D%3D?line=6'>7</a>\u001b[0m target\u001b[39m=\u001b[39m\u001b[39mint\u001b[39m(\u001b[39minput\u001b[39m(\u001b[39m\"\u001b[39m\u001b[39mEnter the target value here:\u001b[39m\u001b[39m\"\u001b[39m))\n\u001b[0;32m      <a href='vscode-notebook-cell:/c%3A/Users/HP/Desktop/alma/priya.ipynb#X34sZmlsZQ%3D%3D?line=7'>8</a>\u001b[0m index\u001b[39m=\u001b[39mliner_search(data,target)\n",
      "\u001b[1;31mValueError\u001b[0m: invalid literal for int() with base 10: '1,2,3,4,5,6'"
     ]
    }
   ],
   "source": [
    "def liner_search(data,target):\n",
    "    for i in range(len(data)):\n",
    "        if data(i)==target:\n",
    "            return 1\n",
    "    return-1\n",
    "data = list(map(int, input(\"Enter the list of data, separated by spaces: \").split()))\n",
    "target=int(input(\"Enter the target value here:\"))\n",
    "index=liner_search(data,target)\n",
    "if index!=-1:\n",
    "    print(f\"target{target} at index is{index}\")\n",
    "else:\n",
    "    print(f\"{target} is not found in data\")"
   ]
  },
  {
   "cell_type": "code",
   "execution_count": 1,
   "metadata": {},
   "outputs": [
    {
     "name": "stdout",
     "output_type": "stream",
     "text": [
      "[27 74 31 76 41 23 24 83 17 60]\n",
      "[17 23 24 27 31 41 60 74 76 83]\n"
     ]
    }
   ],
   "source": [
    "import numpy as np\n",
    "arr=np.random.randint(1,100,size=10)\n",
    "arr_sorted=np.sort(arr)\n",
    "print(arr)\n",
    "print(arr_sorted)"
   ]
  },
  {
   "cell_type": "code",
   "execution_count": 3,
   "metadata": {},
   "outputs": [
    {
     "name": "stdout",
     "output_type": "stream",
     "text": [
      "[0 1 2 3 4 5 6 7 8 9]\n",
      "[5 7 9]\n"
     ]
    }
   ],
   "source": [
    "import numpy as np\n",
    "\n",
    "# Create an array with values from 0 to 9\n",
    "arr = np.arange(10)\n",
    "\n",
    "# Create an array with values from 5 to 9 with a step of 2\n",
    "arr2 = np.arange(5, 10, 2)\n",
    "print(arr)\n",
    "print(arr2)"
   ]
  },
  {
   "cell_type": "code",
   "execution_count": 4,
   "metadata": {},
   "outputs": [
    {
     "name": "stdout",
     "output_type": "stream",
     "text": [
      "[0.   0.25 0.5  0.75 1.  ]\n"
     ]
    }
   ],
   "source": [
    "import numpy as np\n",
    "\n",
    "# Create an array with 5 values between 0 and 1\n",
    "arr = np.linspace(0, 1, 5)\n",
    "print(arr)"
   ]
  },
  {
   "cell_type": "code",
   "execution_count": 5,
   "metadata": {},
   "outputs": [
    {
     "name": "stdout",
     "output_type": "stream",
     "text": [
      "[0 1 2 3 4 5 6 7 8 9]\n",
      "[[0 1 2 3 4]\n",
      " [5 6 7 8 9]]\n"
     ]
    }
   ],
   "source": [
    "import numpy as np\n",
    "\n",
    "# Create a 1-dimensional array\n",
    "arr1d = np.arange(10)\n",
    "\n",
    "# Reshape the array to a 2-dimensional array with 2 rows and 5 columns\n",
    "arr2d = arr1d.reshape(2, 5)\n",
    "print(arr1d)\n",
    "print(arr2d) "
   ]
  },
  {
   "cell_type": "code",
   "execution_count": 7,
   "metadata": {},
   "outputs": [
    {
     "name": "stdout",
     "output_type": "stream",
     "text": [
      "[0 1 2 3 4 5 6 7 8 9]\n",
      "[[0 1 2 3 4]\n",
      " [5 6 7 8 9]]\n"
     ]
    }
   ],
   "source": [
    "import numpy as np\n",
    "\n",
    "# Create a 1-dimensional array\n",
    "arr1d = np.arange(10)\n",
    "\n",
    "# Reshape the array to a 2-dimensional array with 2 rows and 5 columns\n",
    "arr2d = arr1d.reshape(2, 5)\n",
    "print(arr1d)\n",
    "print(arr2d)\n"
   ]
  },
  {
   "cell_type": "code",
   "execution_count": 8,
   "metadata": {},
   "outputs": [
    {
     "name": "stdout",
     "output_type": "stream",
     "text": [
      "[[1 2 3]\n",
      " [4 5 6]\n",
      " [7 8 9]]\n",
      "[[1 4 7]\n",
      " [2 5 8]\n",
      " [3 6 9]]\n"
     ]
    }
   ],
   "source": [
    "import numpy as np\n",
    "\n",
    "# Create a 2-dimensional array\n",
    "arr2d = np.array([[1, 2, 3], [4, 5, 6], [7, 8, 9]])\n",
    "\n",
    "# Transpose the array\n",
    "arr_transpose = np.transpose(arr2d)\n",
    "print(arr2d)\n",
    "print(arr_transpose)"
   ]
  },
  {
   "cell_type": "code",
   "execution_count": 12,
   "metadata": {},
   "outputs": [
    {
     "name": "stdout",
     "output_type": "stream",
     "text": [
      "[[4 4 4 5]\n",
      " [5 4 4 5]\n",
      " [4 4 5 5]]\n",
      "   akshay  radha  prathvik  sanj\n",
      "0       4      4         4     5\n",
      "1       5      4         4     5\n",
      "2       4      4         5     5\n"
     ]
    }
   ],
   "source": [
    "import pandas as pd\n",
    "d2_ARRAY=np.random.randint(4,6,(3,4))\n",
    "first_dataframe=pd.DataFrame(d2_ARRAY,columns=[\"akshay\",\"radha\",\"prathvik\",\"sanj\"])\n",
    "print(d2_ARRAY)\n",
    "print(first_dataframe)"
   ]
  },
  {
   "cell_type": "code",
   "execution_count": 2,
   "metadata": {},
   "outputs": [
    {
     "name": "stdout",
     "output_type": "stream",
     "text": [
      "[[1 2 3]\n",
      " [4 5 6]]\n",
      "[2 5]\n",
      "[[ 7  8]\n",
      " [10 11]]\n"
     ]
    }
   ],
   "source": [
    "\n",
    "import numpy as np\n",
    "\n",
    "# create a 3D numpy array\n",
    "arr3d = np.array([[[1, 2, 3],\n",
    "                   [4, 5, 6]],\n",
    "\n",
    "                  [[7, 8, 9],\n",
    "                   [10, 11, 12]]])\n",
    "\n",
    "# slice the first matrix of the array\n",
    "mat1 = arr3d[0, :, :]\n",
    "print(mat1)\n",
    "\n",
    "# slice the second column of the first matrix of the array\n",
    "col2 = arr3d[0, :, 1]\n",
    "print(col2)\n",
    "# slice a subarray from the original array\n",
    "subarr = arr3d[1, 0:2, 0:2]\n",
    "print(subarr)"
   ]
  },
  {
   "cell_type": "code",
   "execution_count": 13,
   "metadata": {},
   "outputs": [
    {
     "name": "stdout",
     "output_type": "stream",
     "text": [
      "   a  b  c  d\n",
      "0  2  2  2  2\n",
      "1  2  2  2  2\n",
      "2  2  2  2  2\n"
     ]
    }
   ],
   "source": [
    "import pandas as pd\n",
    "import numpy as np\n",
    "import random\n",
    "arry2d=np.random.randint(2,3,(3,4))\n",
    "df=pd.DataFrame(arry2d,columns=[\"a\",\"b\",\"c\",\"d\"])\n",
    "print(df)"
   ]
  },
  {
   "cell_type": "code",
   "execution_count": 14,
   "metadata": {},
   "outputs": [
    {
     "ename": "ValueError",
     "evalue": "Shape of passed values is (3, 4), indices imply (3, 3)",
     "output_type": "error",
     "traceback": [
      "\u001b[1;31m---------------------------------------------------------------------------\u001b[0m",
      "\u001b[1;31mValueError\u001b[0m                                Traceback (most recent call last)",
      "\u001b[1;32mc:\\Users\\HP\\Desktop\\alma\\priya.ipynb Cell 36\u001b[0m line \u001b[0;36m1\n\u001b[1;32m----> <a href='vscode-notebook-cell:/c%3A/Users/HP/Desktop/alma/priya.ipynb#X50sZmlsZQ%3D%3D?line=0'>1</a>\u001b[0m df\u001b[39m=\u001b[39mpd\u001b[39m.\u001b[39;49mDataFrame(arry2d,columns\u001b[39m=\u001b[39;49m[\u001b[39m\"\u001b[39;49m\u001b[39ma\u001b[39;49m\u001b[39m\"\u001b[39;49m,\u001b[39m\"\u001b[39;49m\u001b[39mb\u001b[39;49m\u001b[39m\"\u001b[39;49m,\u001b[39m\"\u001b[39;49m\u001b[39mc\u001b[39;49m\u001b[39m\"\u001b[39;49m])\n",
      "File \u001b[1;32m~\\AppData\\Roaming\\Python\\Python312\\site-packages\\pandas\\core\\frame.py:782\u001b[0m, in \u001b[0;36mDataFrame.__init__\u001b[1;34m(self, data, index, columns, dtype, copy)\u001b[0m\n\u001b[0;32m    771\u001b[0m         mgr \u001b[39m=\u001b[39m dict_to_mgr(\n\u001b[0;32m    772\u001b[0m             \u001b[39m# error: Item \"ndarray\" of \"Union[ndarray, Series, Index]\" has no\u001b[39;00m\n\u001b[0;32m    773\u001b[0m             \u001b[39m# attribute \"name\"\u001b[39;00m\n\u001b[1;32m   (...)\u001b[0m\n\u001b[0;32m    779\u001b[0m             copy\u001b[39m=\u001b[39m_copy,\n\u001b[0;32m    780\u001b[0m         )\n\u001b[0;32m    781\u001b[0m     \u001b[39melse\u001b[39;00m:\n\u001b[1;32m--> 782\u001b[0m         mgr \u001b[39m=\u001b[39m ndarray_to_mgr(\n\u001b[0;32m    783\u001b[0m             data,\n\u001b[0;32m    784\u001b[0m             index,\n\u001b[0;32m    785\u001b[0m             columns,\n\u001b[0;32m    786\u001b[0m             dtype\u001b[39m=\u001b[39;49mdtype,\n\u001b[0;32m    787\u001b[0m             copy\u001b[39m=\u001b[39;49mcopy,\n\u001b[0;32m    788\u001b[0m             typ\u001b[39m=\u001b[39;49mmanager,\n\u001b[0;32m    789\u001b[0m         )\n\u001b[0;32m    791\u001b[0m \u001b[39m# For data is list-like, or Iterable (will consume into list)\u001b[39;00m\n\u001b[0;32m    792\u001b[0m \u001b[39melif\u001b[39;00m is_list_like(data):\n",
      "File \u001b[1;32m~\\AppData\\Roaming\\Python\\Python312\\site-packages\\pandas\\core\\internals\\construction.py:336\u001b[0m, in \u001b[0;36mndarray_to_mgr\u001b[1;34m(values, index, columns, dtype, copy, typ)\u001b[0m\n\u001b[0;32m    331\u001b[0m \u001b[39m# _prep_ndarraylike ensures that values.ndim == 2 at this point\u001b[39;00m\n\u001b[0;32m    332\u001b[0m index, columns \u001b[39m=\u001b[39m _get_axes(\n\u001b[0;32m    333\u001b[0m     values\u001b[39m.\u001b[39mshape[\u001b[39m0\u001b[39m], values\u001b[39m.\u001b[39mshape[\u001b[39m1\u001b[39m], index\u001b[39m=\u001b[39mindex, columns\u001b[39m=\u001b[39mcolumns\n\u001b[0;32m    334\u001b[0m )\n\u001b[1;32m--> 336\u001b[0m _check_values_indices_shape_match(values, index, columns)\n\u001b[0;32m    338\u001b[0m \u001b[39mif\u001b[39;00m typ \u001b[39m==\u001b[39m \u001b[39m\"\u001b[39m\u001b[39marray\u001b[39m\u001b[39m\"\u001b[39m:\n\u001b[0;32m    339\u001b[0m     \u001b[39mif\u001b[39;00m \u001b[39missubclass\u001b[39m(values\u001b[39m.\u001b[39mdtype\u001b[39m.\u001b[39mtype, \u001b[39mstr\u001b[39m):\n",
      "File \u001b[1;32m~\\AppData\\Roaming\\Python\\Python312\\site-packages\\pandas\\core\\internals\\construction.py:420\u001b[0m, in \u001b[0;36m_check_values_indices_shape_match\u001b[1;34m(values, index, columns)\u001b[0m\n\u001b[0;32m    418\u001b[0m passed \u001b[39m=\u001b[39m values\u001b[39m.\u001b[39mshape\n\u001b[0;32m    419\u001b[0m implied \u001b[39m=\u001b[39m (\u001b[39mlen\u001b[39m(index), \u001b[39mlen\u001b[39m(columns))\n\u001b[1;32m--> 420\u001b[0m \u001b[39mraise\u001b[39;00m \u001b[39mValueError\u001b[39;00m(\u001b[39mf\u001b[39m\u001b[39m\"\u001b[39m\u001b[39mShape of passed values is \u001b[39m\u001b[39m{\u001b[39;00mpassed\u001b[39m}\u001b[39;00m\u001b[39m, indices imply \u001b[39m\u001b[39m{\u001b[39;00mimplied\u001b[39m}\u001b[39;00m\u001b[39m\"\u001b[39m)\n",
      "\u001b[1;31mValueError\u001b[0m: Shape of passed values is (3, 4), indices imply (3, 3)"
     ]
    }
   ],
   "source": [
    "df=pd.DataFrame(arry2d,columns=[\"a\",\"b\",\"c\"])"
   ]
  },
  {
   "cell_type": "code",
   "execution_count": 15,
   "metadata": {},
   "outputs": [
    {
     "ename": "ValueError",
     "evalue": "All arrays must be of the same length",
     "output_type": "error",
     "traceback": [
      "\u001b[1;31m---------------------------------------------------------------------------\u001b[0m",
      "\u001b[1;31mValueError\u001b[0m                                Traceback (most recent call last)",
      "\u001b[1;32mc:\\Users\\HP\\Desktop\\alma\\priya.ipynb Cell 37\u001b[0m line \u001b[0;36m2\n\u001b[0;32m      <a href='vscode-notebook-cell:/c%3A/Users/HP/Desktop/alma/priya.ipynb#X51sZmlsZQ%3D%3D?line=0'>1</a>\u001b[0m list_of_dic\u001b[39m=\u001b[39m{\u001b[39m\"\u001b[39m\u001b[39mname\u001b[39m\u001b[39m\"\u001b[39m:(\u001b[39m\"\u001b[39m\u001b[39mprinya\u001b[39m\u001b[39m\"\u001b[39m,\u001b[39m\"\u001b[39m\u001b[39mriya\u001b[39m\u001b[39m\"\u001b[39m,\u001b[39m\"\u001b[39m\u001b[39mshreya\u001b[39m\u001b[39m\"\u001b[39m),\u001b[39m\"\u001b[39m\u001b[39mage\u001b[39m\u001b[39m\"\u001b[39m:(\u001b[39m\"\u001b[39m\u001b[39m12\u001b[39m\u001b[39m\"\u001b[39m,\u001b[39m\"\u001b[39m\u001b[39m10\u001b[39m\u001b[39m\"\u001b[39m)}\n\u001b[1;32m----> <a href='vscode-notebook-cell:/c%3A/Users/HP/Desktop/alma/priya.ipynb#X51sZmlsZQ%3D%3D?line=1'>2</a>\u001b[0m df\u001b[39m=\u001b[39mpd\u001b[39m.\u001b[39;49mDataFrame(list_of_dic)\n\u001b[0;32m      <a href='vscode-notebook-cell:/c%3A/Users/HP/Desktop/alma/priya.ipynb#X51sZmlsZQ%3D%3D?line=2'>3</a>\u001b[0m \u001b[39mprint\u001b[39m(df)\n",
      "File \u001b[1;32m~\\AppData\\Roaming\\Python\\Python312\\site-packages\\pandas\\core\\frame.py:733\u001b[0m, in \u001b[0;36mDataFrame.__init__\u001b[1;34m(self, data, index, columns, dtype, copy)\u001b[0m\n\u001b[0;32m    727\u001b[0m     mgr \u001b[39m=\u001b[39m \u001b[39mself\u001b[39m\u001b[39m.\u001b[39m_init_mgr(\n\u001b[0;32m    728\u001b[0m         data, axes\u001b[39m=\u001b[39m{\u001b[39m\"\u001b[39m\u001b[39mindex\u001b[39m\u001b[39m\"\u001b[39m: index, \u001b[39m\"\u001b[39m\u001b[39mcolumns\u001b[39m\u001b[39m\"\u001b[39m: columns}, dtype\u001b[39m=\u001b[39mdtype, copy\u001b[39m=\u001b[39mcopy\n\u001b[0;32m    729\u001b[0m     )\n\u001b[0;32m    731\u001b[0m \u001b[39melif\u001b[39;00m \u001b[39misinstance\u001b[39m(data, \u001b[39mdict\u001b[39m):\n\u001b[0;32m    732\u001b[0m     \u001b[39m# GH#38939 de facto copy defaults to False only in non-dict cases\u001b[39;00m\n\u001b[1;32m--> 733\u001b[0m     mgr \u001b[39m=\u001b[39m dict_to_mgr(data, index, columns, dtype\u001b[39m=\u001b[39;49mdtype, copy\u001b[39m=\u001b[39;49mcopy, typ\u001b[39m=\u001b[39;49mmanager)\n\u001b[0;32m    734\u001b[0m \u001b[39melif\u001b[39;00m \u001b[39misinstance\u001b[39m(data, ma\u001b[39m.\u001b[39mMaskedArray):\n\u001b[0;32m    735\u001b[0m     \u001b[39mfrom\u001b[39;00m \u001b[39mnumpy\u001b[39;00m\u001b[39m.\u001b[39;00m\u001b[39mma\u001b[39;00m \u001b[39mimport\u001b[39;00m mrecords\n",
      "File \u001b[1;32m~\\AppData\\Roaming\\Python\\Python312\\site-packages\\pandas\\core\\internals\\construction.py:503\u001b[0m, in \u001b[0;36mdict_to_mgr\u001b[1;34m(data, index, columns, dtype, typ, copy)\u001b[0m\n\u001b[0;32m    499\u001b[0m     \u001b[39melse\u001b[39;00m:\n\u001b[0;32m    500\u001b[0m         \u001b[39m# dtype check to exclude e.g. range objects, scalars\u001b[39;00m\n\u001b[0;32m    501\u001b[0m         arrays \u001b[39m=\u001b[39m [x\u001b[39m.\u001b[39mcopy() \u001b[39mif\u001b[39;00m \u001b[39mhasattr\u001b[39m(x, \u001b[39m\"\u001b[39m\u001b[39mdtype\u001b[39m\u001b[39m\"\u001b[39m) \u001b[39melse\u001b[39;00m x \u001b[39mfor\u001b[39;00m x \u001b[39min\u001b[39;00m arrays]\n\u001b[1;32m--> 503\u001b[0m \u001b[39mreturn\u001b[39;00m arrays_to_mgr(arrays, columns, index, dtype\u001b[39m=\u001b[39;49mdtype, typ\u001b[39m=\u001b[39;49mtyp, consolidate\u001b[39m=\u001b[39;49mcopy)\n",
      "File \u001b[1;32m~\\AppData\\Roaming\\Python\\Python312\\site-packages\\pandas\\core\\internals\\construction.py:114\u001b[0m, in \u001b[0;36marrays_to_mgr\u001b[1;34m(arrays, columns, index, dtype, verify_integrity, typ, consolidate)\u001b[0m\n\u001b[0;32m    111\u001b[0m \u001b[39mif\u001b[39;00m verify_integrity:\n\u001b[0;32m    112\u001b[0m     \u001b[39m# figure out the index, if necessary\u001b[39;00m\n\u001b[0;32m    113\u001b[0m     \u001b[39mif\u001b[39;00m index \u001b[39mis\u001b[39;00m \u001b[39mNone\u001b[39;00m:\n\u001b[1;32m--> 114\u001b[0m         index \u001b[39m=\u001b[39m _extract_index(arrays)\n\u001b[0;32m    115\u001b[0m     \u001b[39melse\u001b[39;00m:\n\u001b[0;32m    116\u001b[0m         index \u001b[39m=\u001b[39m ensure_index(index)\n",
      "File \u001b[1;32m~\\AppData\\Roaming\\Python\\Python312\\site-packages\\pandas\\core\\internals\\construction.py:677\u001b[0m, in \u001b[0;36m_extract_index\u001b[1;34m(data)\u001b[0m\n\u001b[0;32m    675\u001b[0m lengths \u001b[39m=\u001b[39m \u001b[39mlist\u001b[39m(\u001b[39mset\u001b[39m(raw_lengths))\n\u001b[0;32m    676\u001b[0m \u001b[39mif\u001b[39;00m \u001b[39mlen\u001b[39m(lengths) \u001b[39m>\u001b[39m \u001b[39m1\u001b[39m:\n\u001b[1;32m--> 677\u001b[0m     \u001b[39mraise\u001b[39;00m \u001b[39mValueError\u001b[39;00m(\u001b[39m\"\u001b[39m\u001b[39mAll arrays must be of the same length\u001b[39m\u001b[39m\"\u001b[39m)\n\u001b[0;32m    679\u001b[0m \u001b[39mif\u001b[39;00m have_dicts:\n\u001b[0;32m    680\u001b[0m     \u001b[39mraise\u001b[39;00m \u001b[39mValueError\u001b[39;00m(\n\u001b[0;32m    681\u001b[0m         \u001b[39m\"\u001b[39m\u001b[39mMixing dicts with non-Series may lead to ambiguous ordering.\u001b[39m\u001b[39m\"\u001b[39m\n\u001b[0;32m    682\u001b[0m     )\n",
      "\u001b[1;31mValueError\u001b[0m: All arrays must be of the same length"
     ]
    }
   ],
   "source": [
    "list_of_dic={\"name\":(\"prinya\",\"riya\",\"shreya\"),\"age\":(\"12\",\"10\")}\n",
    "df=pd.DataFrame(list_of_dic)\n",
    "print(df)"
   ]
  },
  {
   "cell_type": "code",
   "execution_count": 16,
   "metadata": {},
   "outputs": [
    {
     "name": "stdout",
     "output_type": "stream",
     "text": [
      "         name  age\n",
      "0  ram_lakhan   34\n",
      "1      kanchi   55\n"
     ]
    }
   ],
   "source": [
    "actor=[\"ram_lakhan\",\"kanchi\",\"mehendi\"]\n",
    "actor_age=[34,55]\n",
    "actors=list(zip(actor,actor_age))\n",
    "df=pd.DataFrame(actors,columns=[\"name\",\"age\"])\n",
    "print(df)\n"
   ]
  },
  {
   "cell_type": "code",
   "execution_count": 19,
   "metadata": {},
   "outputs": [
    {
     "ename": "SyntaxError",
     "evalue": "(unicode error) 'unicodeescape' codec can't decode bytes in position 2-3: truncated \\UXXXXXXXX escape (915442294.py, line 1)",
     "output_type": "error",
     "traceback": [
      "\u001b[1;36m  Cell \u001b[1;32mIn[19], line 1\u001b[1;36m\u001b[0m\n\u001b[1;33m    imdb_df=pd.read_csv(\"C:\\Users\\HP\\Desktop\\alma\\Capstone_Project_Introduction_to_Computer_Programming.ipynb\")\u001b[0m\n\u001b[1;37m                        ^\u001b[0m\n\u001b[1;31mSyntaxError\u001b[0m\u001b[1;31m:\u001b[0m (unicode error) 'unicodeescape' codec can't decode bytes in position 2-3: truncated \\UXXXXXXXX escape\n"
     ]
    }
   ],
   "source": [
    "imdb_df=pd.read_csv(\"C:\\Users\\HP\\Desktop\\alma\\Capstone_Project_Introduction_to_Computer_Programming.ipynb\")\n",
    "imdb_df.head()                               "
   ]
  },
  {
   "cell_type": "code",
   "execution_count": 21,
   "metadata": {},
   "outputs": [
    {
     "name": "stdout",
     "output_type": "stream",
     "text": [
      "575\n",
      "1.05\n"
     ]
    }
   ],
   "source": [
    "import numpy as np\n",
    "fruits = np.array([\"Apple\", \"Banana\", \"Cherry\", \"Dragonfruit\", \"Elderberry\"])\n",
    "quantity_sold = np.array([100, 200, 50, 75, 150])\n",
    "price_per_unit = np.array([0.5, 0.25, 1, 1.5, 2])\n",
    "total_sales=np.sum(quantity_sold)\n",
    "total_average=np.mean(price_per_unit)\n",
    "print(total_sales)\n",
    "print(total_average)"
   ]
  },
  {
   "cell_type": "code",
   "execution_count": 24,
   "metadata": {},
   "outputs": [
    {
     "name": "stdout",
     "output_type": "stream",
     "text": [
      "187.5\n",
      "187.5\n",
      "71.80703308172536\n"
     ]
    },
    {
     "ename": "ModuleNotFoundError",
     "evalue": "No module named 'scipy'",
     "output_type": "error",
     "traceback": [
      "\u001b[1;31m---------------------------------------------------------------------------\u001b[0m",
      "\u001b[1;31mModuleNotFoundError\u001b[0m                       Traceback (most recent call last)",
      "\u001b[1;32mc:\\Users\\HP\\Desktop\\alma\\priya.ipynb Cell 41\u001b[0m line \u001b[0;36m8\n\u001b[0;32m      <a href='vscode-notebook-cell:/c%3A/Users/HP/Desktop/alma/priya.ipynb#X55sZmlsZQ%3D%3D?line=5'>6</a>\u001b[0m std_sales\u001b[39m=\u001b[39mnp\u001b[39m.\u001b[39mstd(sales)\n\u001b[0;32m      <a href='vscode-notebook-cell:/c%3A/Users/HP/Desktop/alma/priya.ipynb#X55sZmlsZQ%3D%3D?line=6'>7</a>\u001b[0m \u001b[39mprint\u001b[39m(std_sales)\n\u001b[1;32m----> <a href='vscode-notebook-cell:/c%3A/Users/HP/Desktop/alma/priya.ipynb#X55sZmlsZQ%3D%3D?line=7'>8</a>\u001b[0m \u001b[39mfrom\u001b[39;00m \u001b[39mscipy\u001b[39;00m \u001b[39mimport\u001b[39;00m stats\n\u001b[0;32m      <a href='vscode-notebook-cell:/c%3A/Users/HP/Desktop/alma/priya.ipynb#X55sZmlsZQ%3D%3D?line=8'>9</a>\u001b[0m mode_sales\u001b[39m=\u001b[39mnp\u001b[39m.\u001b[39mmode(sales)\n\u001b[0;32m     <a href='vscode-notebook-cell:/c%3A/Users/HP/Desktop/alma/priya.ipynb#X55sZmlsZQ%3D%3D?line=9'>10</a>\u001b[0m \u001b[39mprint\u001b[39m(mode_sales)\n",
      "\u001b[1;31mModuleNotFoundError\u001b[0m: No module named 'scipy'"
     ]
    }
   ],
   "source": [
    "sales = np.array([100, 200, 150, 75, 250, 300, 175, 225, 125, 275])\n",
    "mean_sales=np.mean(sales)\n",
    "print(mean_sales)\n",
    "median_sales=np.median(sales)\n",
    "print(median_sales)\n",
    "std_sales=np.std(sales)\n",
    "print(std_sales)\n",
    "from scipy import stats\n",
    "mode_sales=np.mode(sales)\n",
    "print(mode_sales)\n",
    "\n"
   ]
  },
  {
   "cell_type": "code",
   "execution_count": 30,
   "metadata": {},
   "outputs": [
    {
     "name": "stdout",
     "output_type": "stream",
     "text": [
      "<module 'pandas' from 'C:\\\\Users\\\\HP\\\\AppData\\\\Roaming\\\\Python\\\\Python312\\\\site-packages\\\\pandas\\\\__init__.py'>\n"
     ]
    },
    {
     "ename": "ValueError",
     "evalue": "Length of values (4) does not match length of index (10)",
     "output_type": "error",
     "traceback": [
      "\u001b[1;31m---------------------------------------------------------------------------\u001b[0m",
      "\u001b[1;31mValueError\u001b[0m                                Traceback (most recent call last)",
      "\u001b[1;32mc:\\Users\\HP\\Desktop\\alma\\priya.ipynb Cell 42\u001b[0m line \u001b[0;36m7\n\u001b[0;32m      <a href='vscode-notebook-cell:/c%3A/Users/HP/Desktop/alma/priya.ipynb#X56sZmlsZQ%3D%3D?line=4'>5</a>\u001b[0m df\u001b[39m=\u001b[39mpd\u001b[39m.\u001b[39mDataFrame(data)\n\u001b[0;32m      <a href='vscode-notebook-cell:/c%3A/Users/HP/Desktop/alma/priya.ipynb#X56sZmlsZQ%3D%3D?line=5'>6</a>\u001b[0m \u001b[39mprint\u001b[39m(pd)\n\u001b[1;32m----> <a href='vscode-notebook-cell:/c%3A/Users/HP/Desktop/alma/priya.ipynb#X56sZmlsZQ%3D%3D?line=6'>7</a>\u001b[0m average_sales\u001b[39m=\u001b[39mpd\u001b[39m.\u001b[39;49mDataFrame(data,sales)\n\u001b[0;32m      <a href='vscode-notebook-cell:/c%3A/Users/HP/Desktop/alma/priya.ipynb#X56sZmlsZQ%3D%3D?line=7'>8</a>\u001b[0m \u001b[39mprint\u001b[39m(average_sales)\n",
      "File \u001b[1;32m~\\AppData\\Roaming\\Python\\Python312\\site-packages\\pandas\\core\\frame.py:733\u001b[0m, in \u001b[0;36mDataFrame.__init__\u001b[1;34m(self, data, index, columns, dtype, copy)\u001b[0m\n\u001b[0;32m    727\u001b[0m     mgr \u001b[39m=\u001b[39m \u001b[39mself\u001b[39m\u001b[39m.\u001b[39m_init_mgr(\n\u001b[0;32m    728\u001b[0m         data, axes\u001b[39m=\u001b[39m{\u001b[39m\"\u001b[39m\u001b[39mindex\u001b[39m\u001b[39m\"\u001b[39m: index, \u001b[39m\"\u001b[39m\u001b[39mcolumns\u001b[39m\u001b[39m\"\u001b[39m: columns}, dtype\u001b[39m=\u001b[39mdtype, copy\u001b[39m=\u001b[39mcopy\n\u001b[0;32m    729\u001b[0m     )\n\u001b[0;32m    731\u001b[0m \u001b[39melif\u001b[39;00m \u001b[39misinstance\u001b[39m(data, \u001b[39mdict\u001b[39m):\n\u001b[0;32m    732\u001b[0m     \u001b[39m# GH#38939 de facto copy defaults to False only in non-dict cases\u001b[39;00m\n\u001b[1;32m--> 733\u001b[0m     mgr \u001b[39m=\u001b[39m dict_to_mgr(data, index, columns, dtype\u001b[39m=\u001b[39;49mdtype, copy\u001b[39m=\u001b[39;49mcopy, typ\u001b[39m=\u001b[39;49mmanager)\n\u001b[0;32m    734\u001b[0m \u001b[39melif\u001b[39;00m \u001b[39misinstance\u001b[39m(data, ma\u001b[39m.\u001b[39mMaskedArray):\n\u001b[0;32m    735\u001b[0m     \u001b[39mfrom\u001b[39;00m \u001b[39mnumpy\u001b[39;00m\u001b[39m.\u001b[39;00m\u001b[39mma\u001b[39;00m \u001b[39mimport\u001b[39;00m mrecords\n",
      "File \u001b[1;32m~\\AppData\\Roaming\\Python\\Python312\\site-packages\\pandas\\core\\internals\\construction.py:503\u001b[0m, in \u001b[0;36mdict_to_mgr\u001b[1;34m(data, index, columns, dtype, typ, copy)\u001b[0m\n\u001b[0;32m    499\u001b[0m     \u001b[39melse\u001b[39;00m:\n\u001b[0;32m    500\u001b[0m         \u001b[39m# dtype check to exclude e.g. range objects, scalars\u001b[39;00m\n\u001b[0;32m    501\u001b[0m         arrays \u001b[39m=\u001b[39m [x\u001b[39m.\u001b[39mcopy() \u001b[39mif\u001b[39;00m \u001b[39mhasattr\u001b[39m(x, \u001b[39m\"\u001b[39m\u001b[39mdtype\u001b[39m\u001b[39m\"\u001b[39m) \u001b[39melse\u001b[39;00m x \u001b[39mfor\u001b[39;00m x \u001b[39min\u001b[39;00m arrays]\n\u001b[1;32m--> 503\u001b[0m \u001b[39mreturn\u001b[39;00m arrays_to_mgr(arrays, columns, index, dtype\u001b[39m=\u001b[39;49mdtype, typ\u001b[39m=\u001b[39;49mtyp, consolidate\u001b[39m=\u001b[39;49mcopy)\n",
      "File \u001b[1;32m~\\AppData\\Roaming\\Python\\Python312\\site-packages\\pandas\\core\\internals\\construction.py:119\u001b[0m, in \u001b[0;36marrays_to_mgr\u001b[1;34m(arrays, columns, index, dtype, verify_integrity, typ, consolidate)\u001b[0m\n\u001b[0;32m    116\u001b[0m         index \u001b[39m=\u001b[39m ensure_index(index)\n\u001b[0;32m    118\u001b[0m     \u001b[39m# don't force copy because getting jammed in an ndarray anyway\u001b[39;00m\n\u001b[1;32m--> 119\u001b[0m     arrays, refs \u001b[39m=\u001b[39m _homogenize(arrays, index, dtype)\n\u001b[0;32m    120\u001b[0m     \u001b[39m# _homogenize ensures\u001b[39;00m\n\u001b[0;32m    121\u001b[0m     \u001b[39m#  - all(len(x) == len(index) for x in arrays)\u001b[39;00m\n\u001b[0;32m    122\u001b[0m     \u001b[39m#  - all(x.ndim == 1 for x in arrays)\u001b[39;00m\n\u001b[1;32m   (...)\u001b[0m\n\u001b[0;32m    125\u001b[0m \n\u001b[0;32m    126\u001b[0m \u001b[39melse\u001b[39;00m:\n\u001b[0;32m    127\u001b[0m     index \u001b[39m=\u001b[39m ensure_index(index)\n",
      "File \u001b[1;32m~\\AppData\\Roaming\\Python\\Python312\\site-packages\\pandas\\core\\internals\\construction.py:630\u001b[0m, in \u001b[0;36m_homogenize\u001b[1;34m(data, index, dtype)\u001b[0m\n\u001b[0;32m    627\u001b[0m         val \u001b[39m=\u001b[39m lib\u001b[39m.\u001b[39mfast_multiget(val, oindex\u001b[39m.\u001b[39m_values, default\u001b[39m=\u001b[39mnp\u001b[39m.\u001b[39mnan)\n\u001b[0;32m    629\u001b[0m     val \u001b[39m=\u001b[39m sanitize_array(val, index, dtype\u001b[39m=\u001b[39mdtype, copy\u001b[39m=\u001b[39m\u001b[39mFalse\u001b[39;00m)\n\u001b[1;32m--> 630\u001b[0m     com\u001b[39m.\u001b[39;49mrequire_length_match(val, index)\n\u001b[0;32m    631\u001b[0m     refs\u001b[39m.\u001b[39mappend(\u001b[39mNone\u001b[39;00m)\n\u001b[0;32m    633\u001b[0m homogenized\u001b[39m.\u001b[39mappend(val)\n",
      "File \u001b[1;32m~\\AppData\\Roaming\\Python\\Python312\\site-packages\\pandas\\core\\common.py:561\u001b[0m, in \u001b[0;36mrequire_length_match\u001b[1;34m(data, index)\u001b[0m\n\u001b[0;32m    557\u001b[0m \u001b[39m\u001b[39m\u001b[39m\"\"\"\u001b[39;00m\n\u001b[0;32m    558\u001b[0m \u001b[39mCheck the length of data matches the length of the index.\u001b[39;00m\n\u001b[0;32m    559\u001b[0m \u001b[39m\"\"\"\u001b[39;00m\n\u001b[0;32m    560\u001b[0m \u001b[39mif\u001b[39;00m \u001b[39mlen\u001b[39m(data) \u001b[39m!=\u001b[39m \u001b[39mlen\u001b[39m(index):\n\u001b[1;32m--> 561\u001b[0m     \u001b[39mraise\u001b[39;00m \u001b[39mValueError\u001b[39;00m(\n\u001b[0;32m    562\u001b[0m         \u001b[39m\"\u001b[39m\u001b[39mLength of values \u001b[39m\u001b[39m\"\u001b[39m\n\u001b[0;32m    563\u001b[0m         \u001b[39mf\u001b[39m\u001b[39m\"\u001b[39m\u001b[39m(\u001b[39m\u001b[39m{\u001b[39;00m\u001b[39mlen\u001b[39m(data)\u001b[39m}\u001b[39;00m\u001b[39m) \u001b[39m\u001b[39m\"\u001b[39m\n\u001b[0;32m    564\u001b[0m         \u001b[39m\"\u001b[39m\u001b[39mdoes not match length of index \u001b[39m\u001b[39m\"\u001b[39m\n\u001b[0;32m    565\u001b[0m         \u001b[39mf\u001b[39m\u001b[39m\"\u001b[39m\u001b[39m(\u001b[39m\u001b[39m{\u001b[39;00m\u001b[39mlen\u001b[39m(index)\u001b[39m}\u001b[39;00m\u001b[39m)\u001b[39m\u001b[39m\"\u001b[39m\n\u001b[0;32m    566\u001b[0m     )\n",
      "\u001b[1;31mValueError\u001b[0m: Length of values (4) does not match length of index (10)"
     ]
    }
   ],
   "source": [
    "import pandas as pd\n",
    "data = {'Product': ['Shirts', 'Pants', 'Jackets', 'Shoes'],\n",
    "        'Sales': [100, 75, 50, 25]}\n",
    "\n",
    "df=pd.DataFrame(data)\n",
    "print(pd)\n",
    "average_sales=pd.DataFrame(data,sales)\n",
    "print(average_sales)"
   ]
  },
  {
   "cell_type": "code",
   "execution_count": 31,
   "metadata": {},
   "outputs": [
    {
     "name": "stdout",
     "output_type": "stream",
     "text": [
      "    Title    Author  Year of Publication  Number of Pages\n",
      "0  Book A  Author X                 2005              300\n",
      "1  Book B  Author Y                 2010              250\n",
      "2  Book C  Author X                 2002              180\n",
      "3  Book D  Author Z                 2015              400\n",
      "4  Book E  Author Y                 2018              320\n"
     ]
    }
   ],
   "source": [
    "import pandas as pd\n",
    "books_dict = {\n",
    "    'Title': ['Book A', 'Book B', 'Book C', 'Book D', 'Book E'],\n",
    "    'Author': ['Author X', 'Author Y', 'Author X', 'Author Z', 'Author Y'],\n",
    "    'Year of Publication': [2005, 2010, 2002, 2015, 2018],\n",
    "    'Number of Pages': [300, 250, 180, 400, 320]\n",
    "}\n",
    "dict_df=pd.DataFrame(books_dict)\n",
    "print(dict_df)"
   ]
  },
  {
   "cell_type": "code",
   "execution_count": 32,
   "metadata": {},
   "outputs": [
    {
     "data": {
      "text/html": [
       "<div>\n",
       "<style scoped>\n",
       "    .dataframe tbody tr th:only-of-type {\n",
       "        vertical-align: middle;\n",
       "    }\n",
       "\n",
       "    .dataframe tbody tr th {\n",
       "        vertical-align: top;\n",
       "    }\n",
       "\n",
       "    .dataframe thead th {\n",
       "        text-align: right;\n",
       "    }\n",
       "</style>\n",
       "<table border=\"1\" class=\"dataframe\">\n",
       "  <thead>\n",
       "    <tr style=\"text-align: right;\">\n",
       "      <th></th>\n",
       "      <th>Title</th>\n",
       "      <th>Author</th>\n",
       "      <th>Year of Publication</th>\n",
       "      <th>Number of Pages</th>\n",
       "    </tr>\n",
       "  </thead>\n",
       "  <tbody>\n",
       "    <tr>\n",
       "      <th>0</th>\n",
       "      <td>Book A</td>\n",
       "      <td>Author X</td>\n",
       "      <td>2005</td>\n",
       "      <td>300</td>\n",
       "    </tr>\n",
       "    <tr>\n",
       "      <th>1</th>\n",
       "      <td>Book B</td>\n",
       "      <td>Author Y</td>\n",
       "      <td>2010</td>\n",
       "      <td>250</td>\n",
       "    </tr>\n",
       "    <tr>\n",
       "      <th>2</th>\n",
       "      <td>Book C</td>\n",
       "      <td>Author X</td>\n",
       "      <td>2002</td>\n",
       "      <td>180</td>\n",
       "    </tr>\n",
       "    <tr>\n",
       "      <th>3</th>\n",
       "      <td>Book D</td>\n",
       "      <td>Author Z</td>\n",
       "      <td>2015</td>\n",
       "      <td>400</td>\n",
       "    </tr>\n",
       "    <tr>\n",
       "      <th>4</th>\n",
       "      <td>Book E</td>\n",
       "      <td>Author Y</td>\n",
       "      <td>2018</td>\n",
       "      <td>320</td>\n",
       "    </tr>\n",
       "  </tbody>\n",
       "</table>\n",
       "</div>"
      ],
      "text/plain": [
       "    Title    Author  Year of Publication  Number of Pages\n",
       "0  Book A  Author X                 2005              300\n",
       "1  Book B  Author Y                 2010              250\n",
       "2  Book C  Author X                 2002              180\n",
       "3  Book D  Author Z                 2015              400\n",
       "4  Book E  Author Y                 2018              320"
      ]
     },
     "execution_count": 32,
     "metadata": {},
     "output_type": "execute_result"
    }
   ],
   "source": [
    "dict_df.head(5)"
   ]
  },
  {
   "cell_type": "code",
   "execution_count": 40,
   "metadata": {},
   "outputs": [
    {
     "ename": "AttributeError",
     "evalue": "'DataFrame' object has no attribute 'Rows'",
     "output_type": "error",
     "traceback": [
      "\u001b[1;31m---------------------------------------------------------------------------\u001b[0m",
      "\u001b[1;31mAttributeError\u001b[0m                            Traceback (most recent call last)",
      "\u001b[1;32m~\\AppData\\Local\\Temp\\ipykernel_5160\\457301687.py\u001b[0m in \u001b[0;36m?\u001b[1;34m()\u001b[0m\n\u001b[0;32m      1\u001b[0m \u001b[0mdict_df\u001b[0m\u001b[1;33m.\u001b[0m\u001b[0mtail\u001b[0m\u001b[1;33m(\u001b[0m\u001b[1;36m3\u001b[0m\u001b[1;33m)\u001b[0m\u001b[1;33m\u001b[0m\u001b[1;33m\u001b[0m\u001b[0m\n\u001b[1;32m----> 2\u001b[1;33m \u001b[0mdict_df\u001b[0m\u001b[1;33m.\u001b[0m\u001b[0mRows\u001b[0m\u001b[1;33m\u001b[0m\u001b[1;33m\u001b[0m\u001b[0m\n\u001b[0m",
      "\u001b[1;32m~\\AppData\\Roaming\\Python\\Python312\\site-packages\\pandas\\core\\generic.py\u001b[0m in \u001b[0;36m?\u001b[1;34m(self, name)\u001b[0m\n\u001b[0;32m   6200\u001b[0m             \u001b[1;32mand\u001b[0m \u001b[0mname\u001b[0m \u001b[1;32mnot\u001b[0m \u001b[1;32min\u001b[0m \u001b[0mself\u001b[0m\u001b[1;33m.\u001b[0m\u001b[0m_accessors\u001b[0m\u001b[1;33m\u001b[0m\u001b[1;33m\u001b[0m\u001b[0m\n\u001b[0;32m   6201\u001b[0m             \u001b[1;32mand\u001b[0m \u001b[0mself\u001b[0m\u001b[1;33m.\u001b[0m\u001b[0m_info_axis\u001b[0m\u001b[1;33m.\u001b[0m\u001b[0m_can_hold_identifiers_and_holds_name\u001b[0m\u001b[1;33m(\u001b[0m\u001b[0mname\u001b[0m\u001b[1;33m)\u001b[0m\u001b[1;33m\u001b[0m\u001b[1;33m\u001b[0m\u001b[0m\n\u001b[0;32m   6202\u001b[0m         \u001b[1;33m)\u001b[0m\u001b[1;33m:\u001b[0m\u001b[1;33m\u001b[0m\u001b[1;33m\u001b[0m\u001b[0m\n\u001b[0;32m   6203\u001b[0m             \u001b[1;32mreturn\u001b[0m \u001b[0mself\u001b[0m\u001b[1;33m[\u001b[0m\u001b[0mname\u001b[0m\u001b[1;33m]\u001b[0m\u001b[1;33m\u001b[0m\u001b[1;33m\u001b[0m\u001b[0m\n\u001b[1;32m-> 6204\u001b[1;33m         \u001b[1;32mreturn\u001b[0m \u001b[0mobject\u001b[0m\u001b[1;33m.\u001b[0m\u001b[0m__getattribute__\u001b[0m\u001b[1;33m(\u001b[0m\u001b[0mself\u001b[0m\u001b[1;33m,\u001b[0m \u001b[0mname\u001b[0m\u001b[1;33m)\u001b[0m\u001b[1;33m\u001b[0m\u001b[1;33m\u001b[0m\u001b[0m\n\u001b[0m",
      "\u001b[1;31mAttributeError\u001b[0m: 'DataFrame' object has no attribute 'Rows'"
     ]
    }
   ],
   "source": [
    "dict_df.tail(3)\n",
    "dict_df.Rows"
   ]
  },
  {
   "cell_type": "code",
   "execution_count": 39,
   "metadata": {},
   "outputs": [
    {
     "ename": "AttributeError",
     "evalue": "'DataFrame' object has no attribute 'rows'",
     "output_type": "error",
     "traceback": [
      "\u001b[1;31m---------------------------------------------------------------------------\u001b[0m",
      "\u001b[1;31mAttributeError\u001b[0m                            Traceback (most recent call last)",
      "\u001b[1;32m~\\AppData\\Local\\Temp\\ipykernel_5160\\2705819114.py\u001b[0m in \u001b[0;36m?\u001b[1;34m()\u001b[0m\n\u001b[1;32m----> 1\u001b[1;33m \u001b[0mdict_df\u001b[0m\u001b[1;33m.\u001b[0m\u001b[0mrows\u001b[0m\u001b[1;33m\u001b[0m\u001b[1;33m\u001b[0m\u001b[0m\n\u001b[0m",
      "\u001b[1;32m~\\AppData\\Roaming\\Python\\Python312\\site-packages\\pandas\\core\\generic.py\u001b[0m in \u001b[0;36m?\u001b[1;34m(self, name)\u001b[0m\n\u001b[0;32m   6200\u001b[0m             \u001b[1;32mand\u001b[0m \u001b[0mname\u001b[0m \u001b[1;32mnot\u001b[0m \u001b[1;32min\u001b[0m \u001b[0mself\u001b[0m\u001b[1;33m.\u001b[0m\u001b[0m_accessors\u001b[0m\u001b[1;33m\u001b[0m\u001b[1;33m\u001b[0m\u001b[0m\n\u001b[0;32m   6201\u001b[0m             \u001b[1;32mand\u001b[0m \u001b[0mself\u001b[0m\u001b[1;33m.\u001b[0m\u001b[0m_info_axis\u001b[0m\u001b[1;33m.\u001b[0m\u001b[0m_can_hold_identifiers_and_holds_name\u001b[0m\u001b[1;33m(\u001b[0m\u001b[0mname\u001b[0m\u001b[1;33m)\u001b[0m\u001b[1;33m\u001b[0m\u001b[1;33m\u001b[0m\u001b[0m\n\u001b[0;32m   6202\u001b[0m         \u001b[1;33m)\u001b[0m\u001b[1;33m:\u001b[0m\u001b[1;33m\u001b[0m\u001b[1;33m\u001b[0m\u001b[0m\n\u001b[0;32m   6203\u001b[0m             \u001b[1;32mreturn\u001b[0m \u001b[0mself\u001b[0m\u001b[1;33m[\u001b[0m\u001b[0mname\u001b[0m\u001b[1;33m]\u001b[0m\u001b[1;33m\u001b[0m\u001b[1;33m\u001b[0m\u001b[0m\n\u001b[1;32m-> 6204\u001b[1;33m         \u001b[1;32mreturn\u001b[0m \u001b[0mobject\u001b[0m\u001b[1;33m.\u001b[0m\u001b[0m__getattribute__\u001b[0m\u001b[1;33m(\u001b[0m\u001b[0mself\u001b[0m\u001b[1;33m,\u001b[0m \u001b[0mname\u001b[0m\u001b[1;33m)\u001b[0m\u001b[1;33m\u001b[0m\u001b[1;33m\u001b[0m\u001b[0m\n\u001b[0m",
      "\u001b[1;31mAttributeError\u001b[0m: 'DataFrame' object has no attribute 'rows'"
     ]
    }
   ],
   "source": [
    "dict_df.rows"
   ]
  },
  {
   "cell_type": "code",
   "execution_count": 42,
   "metadata": {},
   "outputs": [
    {
     "name": "stdout",
     "output_type": "stream",
     "text": [
      "      name  age\n",
      "0    Alice   25\n",
      "1      Bob   30\n",
      "2  Charlie   35\n"
     ]
    }
   ],
   "source": [
    "# Create a DataFrame\n",
    "data = {'name': ['Alice', 'Bob', 'Charlie'],\n",
    "        'age': [25, 30, 35]}\n",
    "df = pd.DataFrame(data)\n",
    "\n",
    "# Write the DataFrame to a CSV file\n",
    "df.to_csv('newframe.csv', index=True)\n",
    "print(df)\n",
    "\n",
    "\n",
    "#Check out the files tab on the left for the file."
   ]
  },
  {
   "cell_type": "code",
   "execution_count": 36,
   "metadata": {},
   "outputs": [
    {
     "ename": "ModuleNotFoundError",
     "evalue": "No module named 'google'",
     "output_type": "error",
     "traceback": [
      "\u001b[1;31m---------------------------------------------------------------------------\u001b[0m",
      "\u001b[1;31mModuleNotFoundError\u001b[0m                       Traceback (most recent call last)",
      "\u001b[1;32mc:\\Users\\HP\\Desktop\\alma\\priya.ipynb Cell 47\u001b[0m line \u001b[0;36m1\n\u001b[1;32m----> <a href='vscode-notebook-cell:/c%3A/Users/HP/Desktop/alma/priya.ipynb#X64sZmlsZQ%3D%3D?line=0'>1</a>\u001b[0m \u001b[39mfrom\u001b[39;00m \u001b[39mgoogle\u001b[39;00m\u001b[39m.\u001b[39;00m\u001b[39mcolab\u001b[39;00m \u001b[39mimport\u001b[39;00m drive\n\u001b[0;32m      <a href='vscode-notebook-cell:/c%3A/Users/HP/Desktop/alma/priya.ipynb#X64sZmlsZQ%3D%3D?line=1'>2</a>\u001b[0m \u001b[39mimport\u001b[39;00m \u001b[39mpandas\u001b[39;00m \u001b[39mas\u001b[39;00m \u001b[39mpd\u001b[39;00m\n\u001b[0;32m      <a href='vscode-notebook-cell:/c%3A/Users/HP/Desktop/alma/priya.ipynb#X64sZmlsZQ%3D%3D?line=2'>3</a>\u001b[0m \u001b[39mimport\u001b[39;00m \u001b[39mnumpy\u001b[39;00m \u001b[39mas\u001b[39;00m \u001b[39mnp\u001b[39;00m\n",
      "\u001b[1;31mModuleNotFoundError\u001b[0m: No module named 'google'"
     ]
    }
   ],
   "source": [
    "from google.colab import drive\n",
    "import pandas as pd\n",
    "import numpy as np\n",
    "read=pd.read_csv(\"imdb_data.csv\")\n",
    "print(read)\n",
    "\n"
   ]
  },
  {
   "cell_type": "code",
   "execution_count": 9,
   "metadata": {},
   "outputs": [
    {
     "ename": "ModuleNotFoundError",
     "evalue": "No module named 'google'",
     "output_type": "error",
     "traceback": [
      "\u001b[1;31m---------------------------------------------------------------------------\u001b[0m",
      "\u001b[1;31mModuleNotFoundError\u001b[0m                       Traceback (most recent call last)",
      "\u001b[1;32mc:\\Users\\HP\\Desktop\\alma\\priya.ipynb Cell 49\u001b[0m line \u001b[0;36m1\n\u001b[1;32m----> <a href='vscode-notebook-cell:/c%3A/Users/HP/Desktop/alma/priya.ipynb#X66sZmlsZQ%3D%3D?line=0'>1</a>\u001b[0m \u001b[39mfrom\u001b[39;00m \u001b[39mgoogle\u001b[39;00m\u001b[39m.\u001b[39;00m\u001b[39mcolab\u001b[39;00m \u001b[39mimport\u001b[39;00m drive\n\u001b[0;32m      <a href='vscode-notebook-cell:/c%3A/Users/HP/Desktop/alma/priya.ipynb#X66sZmlsZQ%3D%3D?line=1'>2</a>\u001b[0m drive\u001b[39m.\u001b[39mmount(\u001b[39m'\u001b[39m\u001b[39m/content/drive\u001b[39m\u001b[39m'\u001b[39m)\n\u001b[0;32m      <a href='vscode-notebook-cell:/c%3A/Users/HP/Desktop/alma/priya.ipynb#X66sZmlsZQ%3D%3D?line=2'>3</a>\u001b[0m \u001b[39mimport\u001b[39;00m \u001b[39mpandas\u001b[39;00m \u001b[39mas\u001b[39;00m \u001b[39mpd\u001b[39;00m\n",
      "\u001b[1;31mModuleNotFoundError\u001b[0m: No module named 'google'"
     ]
    }
   ],
   "source": [
    "\n",
    "from google.colab import drive\n",
    "drive.mount('/content/drive')\n",
    "import pandas as pd\n",
    "import numpy as np\n",
    "def revised_profile(revanue,budget):\n",
    " if revanue>0:\n",
    "  new_profit=revanue-budget\n",
    " else:\n",
    "  new_profit=np.nan\n",
    " return new_profit\n",
    "\n",
    "imdb_df['new_profit'] = imdb_df.apply(lambda x: revised_profit(x['revenue'], x['budget']),axis=1)\n",
    "imdb_df[\"new_profit\"].head()"
   ]
  },
  {
   "cell_type": "code",
   "execution_count": 7,
   "metadata": {},
   "outputs": [
    {
     "name": "stdout",
     "output_type": "stream",
     "text": [
      "       name  age\n",
      "0     priya   23\n",
      "1      riya   24\n",
      "2   roshani   45\n",
      "3  priyansh    2\n"
     ]
    }
   ],
   "source": [
    "import pandas as pd \n",
    "dic={\n",
    "    \"name\":[\"priya\",\"riya\",\"roshani\",\"priyansh\"],\n",
    "    \"age\":[23,24,45,2]\n",
    "}\n",
    "df=pd.DataFrame(dic)\n",
    "print(df)\n",
    "df.to_csv(\"mix.csv\")"
   ]
  },
  {
   "cell_type": "code",
   "execution_count": 7,
   "metadata": {},
   "outputs": [
    {
     "name": "stdout",
     "output_type": "stream",
     "text": [
      "85\n"
     ]
    }
   ],
   "source": [
    "import numpy as np\n",
    "a=np.array([1,2,3,4,5])\n",
    "b=np.array([3,4,5,6,7])\n",
    "dot_product=0\n",
    "for i in range(len(a)):\n",
    "  dot_product+=a[i]*b[i]\n",
    "\n",
    "print(dot_product)"
   ]
  },
  {
   "cell_type": "code",
   "execution_count": 6,
   "metadata": {},
   "outputs": [
    {
     "name": "stdout",
     "output_type": "stream",
     "text": [
      "32\n"
     ]
    }
   ],
   "source": [
    "import numpy as np\n",
    "\n",
    "a = np.array([1, 2, 3])\n",
    "b = np.array([4, 5, 6])\n",
    "\n",
    "dot_product = 0\n",
    "for i in range(len(a)):\n",
    "    dot_product += a[i] * b[i]\n",
    "print(dot_product)"
   ]
  },
  {
   "cell_type": "code",
   "execution_count": 8,
   "metadata": {},
   "outputs": [
    {
     "name": "stdout",
     "output_type": "stream",
     "text": [
      "85\n"
     ]
    }
   ],
   "source": [
    "dot_product=np.dot(a,b)\n",
    "print(dot_product)"
   ]
  },
  {
   "cell_type": "code",
   "execution_count": 10,
   "metadata": {},
   "outputs": [
    {
     "ename": "ModuleNotFoundError",
     "evalue": "No module named 'joblib'",
     "output_type": "error",
     "traceback": [
      "\u001b[1;31m---------------------------------------------------------------------------\u001b[0m",
      "\u001b[1;31mModuleNotFoundError\u001b[0m                       Traceback (most recent call last)",
      "\u001b[1;32mc:\\Users\\HP\\Desktop\\alma\\priya.ipynb Cell 54\u001b[0m line \u001b[0;36m1\n\u001b[1;32m----> <a href='vscode-notebook-cell:/c%3A/Users/HP/Desktop/alma/priya.ipynb#Y104sZmlsZQ%3D%3D?line=0'>1</a>\u001b[0m \u001b[39mfrom\u001b[39;00m \u001b[39mjoblib\u001b[39;00m \u001b[39mimport\u001b[39;00m Memory\n\u001b[0;32m      <a href='vscode-notebook-cell:/c%3A/Users/HP/Desktop/alma/priya.ipynb#Y104sZmlsZQ%3D%3D?line=1'>2</a>\u001b[0m mem\u001b[39m=\u001b[39mMemory(location\u001b[39m=\u001b[39m\u001b[39m\"\u001b[39m\u001b[39mcache\u001b[39m\u001b[39m\"\u001b[39m)\n\u001b[0;32m      <a href='vscode-notebook-cell:/c%3A/Users/HP/Desktop/alma/priya.ipynb#Y104sZmlsZQ%3D%3D?line=2'>3</a>\u001b[0m \u001b[39m@mem\u001b[39m\u001b[39m.\u001b[39mcache\n\u001b[0;32m      <a href='vscode-notebook-cell:/c%3A/Users/HP/Desktop/alma/priya.ipynb#Y104sZmlsZQ%3D%3D?line=3'>4</a>\u001b[0m \u001b[39mdef\u001b[39;00m \u001b[39mcal_mean\u001b[39m(num):\n",
      "\u001b[1;31mModuleNotFoundError\u001b[0m: No module named 'joblib'"
     ]
    }
   ],
   "source": [
    "from joblib import Memory\n",
    "mem=Memory(location=\"cache\")\n",
    "@mem.cache\n",
    "def cal_mean(num):\n",
    "    total=sum(num)\n",
    "    return total/len(num)\n",
    "my_list=[1,2,3,4,5]\n",
    "mem1=cal_mean(my_list)\n",
    "mem2=cal_mean(my_list)\n",
    "print(mem1)\n",
    "print(mem2)\n"
   ]
  },
  {
   "cell_type": "code",
   "execution_count": 11,
   "metadata": {},
   "outputs": [
    {
     "ename": "ModuleNotFoundError",
     "evalue": "No module named 'joblib'",
     "output_type": "error",
     "traceback": [
      "\u001b[1;31m---------------------------------------------------------------------------\u001b[0m",
      "\u001b[1;31mModuleNotFoundError\u001b[0m                       Traceback (most recent call last)",
      "\u001b[1;32mc:\\Users\\HP\\Desktop\\alma\\priya.ipynb Cell 55\u001b[0m line \u001b[0;36m1\n\u001b[1;32m----> <a href='vscode-notebook-cell:/c%3A/Users/HP/Desktop/alma/priya.ipynb#Y105sZmlsZQ%3D%3D?line=0'>1</a>\u001b[0m \u001b[39mfrom\u001b[39;00m \u001b[39mjoblib\u001b[39;00m \u001b[39mimport\u001b[39;00m Memory\n\u001b[0;32m      <a href='vscode-notebook-cell:/c%3A/Users/HP/Desktop/alma/priya.ipynb#Y105sZmlsZQ%3D%3D?line=2'>3</a>\u001b[0m \u001b[39m# create a Memory object to cache function calls\u001b[39;00m\n\u001b[0;32m      <a href='vscode-notebook-cell:/c%3A/Users/HP/Desktop/alma/priya.ipynb#Y105sZmlsZQ%3D%3D?line=3'>4</a>\u001b[0m mem \u001b[39m=\u001b[39m Memory(location\u001b[39m=\u001b[39m\u001b[39m'\u001b[39m\u001b[39mcache\u001b[39m\u001b[39m'\u001b[39m)\n",
      "\u001b[1;31mModuleNotFoundError\u001b[0m: No module named 'joblib'"
     ]
    }
   ],
   "source": [
    "from joblib import Memory\n",
    "\n",
    "# create a Memory object to cache function calls\n",
    "mem = Memory(location='cache')\n",
    "\n",
    "# define a function to calculate the mean of a list of numbers\n",
    "@mem.cache\n",
    "def calc_mean(numbers):\n",
    "    print(\"Calculating mean...\")\n",
    "    total = sum(numbers)\n",
    "    return total / len(numbers)\n",
    "\n",
    "# define a list of numbers to use for testing\n",
    "my_list = [1, 2, 3, 4, 5]\n",
    "\n",
    "# call the function the first time, which will calculate the mean and cache the result\n",
    "result1 = calc_mean(my_list)\n",
    "\n"
   ]
  },
  {
   "cell_type": "code",
   "execution_count": 13,
   "metadata": {},
   "outputs": [
    {
     "name": "stdout",
     "output_type": "stream",
     "text": [
      "INFO: Pandarallel will run on 2 workers.\n",
      "INFO: Pandarallel will use standard multiprocessing data transfer (pipe) to transfer data between the main process and workers.\n",
      "\n",
      "WARNING: You are on Windows. If you detect any issue with pandarallel, be sure you checked out the Troubleshooting page:\n",
      "https://nalepae.github.io/pandarallel/troubleshooting/\n",
      "0     5\n",
      "1     7\n",
      "2     9\n",
      "3    11\n",
      "4    13\n",
      "dtype: int64\n"
     ]
    }
   ],
   "source": [
    "import pandas as pd\n",
    "from pandarallel import pandarallel\n",
    "pandarallel.initialize()\n",
    "df=pd.DataFrame({\"a\":[1,2,3,4,5],\"b\":[4,5,6,7,8]})\n",
    "def my_fuc(row):\n",
    "    return row[\"a\"]+row[\"b\"]\n",
    "result=df.parallel_apply(my_fuc,axis=1)\n",
    "print(result)"
   ]
  },
  {
   "cell_type": "code",
   "execution_count": 26,
   "metadata": {},
   "outputs": [
    {
     "name": "stdout",
     "output_type": "stream",
     "text": [
      "starting task0\n",
      "starting task1\n",
      "starting task2\n",
      "starting task3\n",
      "starting task4\n",
      "ending task0ending task1\n",
      "\n",
      "ending task2\n",
      "ending task3\n",
      "ending task4\n",
      "all task is completed\n"
     ]
    }
   ],
   "source": [
    "import threading\n",
    "import time\n",
    "def task(name):\n",
    "    print(f\"starting task{name}\")\n",
    "    time.sleep(2)\n",
    "    print(f\"ending task{name}\")\n",
    "if __name__==\"__main__\":\n",
    "    threads = [threading.Thread(target=task, args=(i,)) for i in range(5)]\n",
    "for t in threads:\n",
    "    t.start()\n",
    "for t in threads:\n",
    "    t.join()\n",
    "print(\"all task is completed\")\n",
    "   \n"
   ]
  },
  {
   "cell_type": "code",
   "execution_count": null,
   "metadata": {},
   "outputs": [],
   "source": [
    "50"
   ]
  },
  {
   "cell_type": "code",
   "execution_count": 2,
   "metadata": {},
   "outputs": [
    {
     "ename": "SyntaxError",
     "evalue": "unexpected character after line continuation character (1214643854.py, line 2)",
     "output_type": "error",
     "traceback": [
      "\u001b[1;36m  Cell \u001b[1;32mIn[2], line 2\u001b[1;36m\u001b[0m\n\u001b[1;33m    with open(Users\\HP\\Downloads\\employee.json) as f:\u001b[0m\n\u001b[1;37m                    ^\u001b[0m\n\u001b[1;31mSyntaxError\u001b[0m\u001b[1;31m:\u001b[0m unexpected character after line continuation character\n"
     ]
    }
   ],
   "source": [
    "import json\n",
    "with open(HP\\Downloads\\employee.json) as f:\n",
    "    data=json.load(f)\n",
    "print(data)"
   ]
  },
  {
   "cell_type": "code",
   "execution_count": null,
   "metadata": {},
   "outputs": [],
   "source": []
  }
 ],
 "metadata": {
  "kernelspec": {
   "display_name": "Python 3 (ipykernel)",
   "language": "python",
   "name": "python3"
  },
  "language_info": {
   "codemirror_mode": {
    "name": "ipython",
    "version": 3
   },
   "file_extension": ".py",
   "mimetype": "text/x-python",
   "name": "python",
   "nbconvert_exporter": "python",
   "pygments_lexer": "ipython3",
   "version": "3.12.0"
  }
 },
 "nbformat": 4,
 "nbformat_minor": 2
}
