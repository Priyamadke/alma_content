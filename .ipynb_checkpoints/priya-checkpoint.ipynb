{
 "cells": [
  {
   "cell_type": "markdown",
   "metadata": {},
   "source": [
    "'''Create a Python class for a paint brush that has the following properties:\n",
    "\n",
    "Size (small, medium, or large)\n",
    "Color (red, blue, green, or yellow)\n",
    "Brand (Winsor & Newton, Liquitex, or Grumbacher)\n",
    "Type (round or flat) # Im painting with medium with colour blue, Wnsor and newton and  round.\n",
    "'''"
   ]
  },
  {
   "cell_type": "code",
   "execution_count": 1,
   "metadata": {},
   "outputs": [
    {
     "name": "stdout",
     "output_type": "stream",
     "text": [
      "Im painting with medium with red,liquitex andflat\n"
     ]
    }
   ],
   "source": [
    "class paint_brush:\n",
    "    def __init__(self,size,colour,brand,type):\n",
    "        self.size=size\n",
    "        self.colour=colour\n",
    "        self.brand=brand\n",
    "        self.type=type\n",
    "    def get_paint_in_class(self):\n",
    "        print(f\"Im painting with {self.size} with {self.colour},{self.brand} and{self.type}\")\n",
    "\n",
    "brush=paint_brush(size=\"medium\",colour=\"red\",brand=\"liquitex\",type=\"flat\")\n",
    "brush.get_paint_in_class()\n",
    "\n"
   ]
  },
  {
   "cell_type": "code",
   "execution_count": null,
   "metadata": {},
   "outputs": [],
   "source": []
  }
 ],
 "metadata": {
  "kernelspec": {
   "display_name": "Python 3 (ipykernel)",
   "language": "python",
   "name": "python3"
  },
  "language_info": {
   "codemirror_mode": {
    "name": "ipython",
    "version": 3
   },
   "file_extension": ".py",
   "mimetype": "text/x-python",
   "name": "python",
   "nbconvert_exporter": "python",
   "pygments_lexer": "ipython3",
   "version": "3.11.5"
  }
 },
 "nbformat": 4,
 "nbformat_minor": 2
}
